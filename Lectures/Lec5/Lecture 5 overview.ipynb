{
 "cells": [
  {
   "cell_type": "markdown",
   "id": "987ad271-0f80-4874-b914-7af02d0f7ac8",
   "metadata": {
    "tags": []
   },
   "source": [
    "# Data types"
   ]
  },
  {
   "cell_type": "markdown",
   "id": "dce976d8-a005-4283-afc6-1ec22614fe44",
   "metadata": {
    "tags": []
   },
   "source": [
    "## int"
   ]
  },
  {
   "cell_type": "markdown",
   "id": "aa3eca00-e31c-44b6-8dc9-35c4c379ebd0",
   "metadata": {
    "jp-MarkdownHeadingCollapsed": true
   },
   "source": [
    "### Literals in base 2, 8, 16 "
   ]
  },
  {
   "cell_type": "markdown",
   "id": "ac9a6b73-8b28-4f4f-9d98-97921613f83c",
   "metadata": {},
   "source": [
    "### Second argument to int() (for the base)"
   ]
  },
  {
   "cell_type": "markdown",
   "id": "4304ce6b-6d29-4e8f-b72a-c4774b1c8da7",
   "metadata": {
    "tags": []
   },
   "source": [
    "## str"
   ]
  },
  {
   "cell_type": "markdown",
   "id": "0fd5d85d-2cef-4cd9-970d-91e5d0e0ec8c",
   "metadata": {},
   "source": [
    "### Formatting of integers in base 2, 8, 16"
   ]
  },
  {
   "cell_type": "markdown",
   "id": "dbf0982e-9e0e-42d8-9890-f9486e5bccd9",
   "metadata": {},
   "source": [
    "### Alignment: left, center, right"
   ]
  },
  {
   "cell_type": "markdown",
   "id": "48626856-99b9-49d6-97da-8896181b62cb",
   "metadata": {},
   "source": [
    "### Padding with spaces or 0s"
   ]
  },
  {
   "cell_type": "markdown",
   "id": "f3916290-b8d3-4549-8147-c2faa6903b0b",
   "metadata": {},
   "source": [
    "### Unicode characters and their various representations"
   ]
  },
  {
   "cell_type": "markdown",
   "id": "edebe8ee-92b2-4600-ac52-2c6948d5b5aa",
   "metadata": {
    "tags": []
   },
   "source": [
    "# Expressions"
   ]
  },
  {
   "cell_type": "markdown",
   "id": "6c2e611d-3fed-4222-8ab8-b07e7cd917d1",
   "metadata": {
    "jp-MarkdownHeadingCollapsed": true
   },
   "source": [
    "## Dictionary comprehension"
   ]
  },
  {
   "cell_type": "markdown",
   "id": "9163afe7-0041-442c-b2b1-7c8a86383693",
   "metadata": {
    "jp-MarkdownHeadingCollapsed": true
   },
   "source": [
    "## Lambda expressions"
   ]
  },
  {
   "cell_type": "markdown",
   "id": "c30be720-6658-4f29-a6d4-c2fc2352adb0",
   "metadata": {
    "tags": []
   },
   "source": [
    "# Functions"
   ]
  },
  {
   "cell_type": "markdown",
   "id": "fdb7ea9b-c975-48da-bd7e-68db517541f6",
   "metadata": {
    "tags": []
   },
   "source": [
    "## bin(), oct, hex()"
   ]
  },
  {
   "cell_type": "markdown",
   "id": "96642fb5-e12b-41c9-86d2-f43887bcae11",
   "metadata": {},
   "source": [
    "## ord(), chr()"
   ]
  },
  {
   "cell_type": "markdown",
   "id": "b13c613e-e446-43c2-8670-d71c53b333ab",
   "metadata": {
    "tags": []
   },
   "source": [
    "## sorted(), and the `reverse` and `key` keyword arguments"
   ]
  }
 ],
 "metadata": {
  "kernelspec": {
   "display_name": "Python 3 (ipykernel)",
   "language": "python",
   "name": "python3"
  },
  "language_info": {
   "codemirror_mode": {
    "name": "ipython",
    "version": 3
   },
   "file_extension": ".py",
   "mimetype": "text/x-python",
   "name": "python",
   "nbconvert_exporter": "python",
   "pygments_lexer": "ipython3",
   "version": "3.12.6"
  },
  "widgets": {
   "application/vnd.jupyter.widget-state+json": {
    "state": {},
    "version_major": 2,
    "version_minor": 0
   }
  }
 },
 "nbformat": 4,
 "nbformat_minor": 5
}
