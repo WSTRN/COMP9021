{
 "cells": [
  {
   "cell_type": "code",
   "execution_count": 1,
   "id": "698d4820-fa9b-492e-8e70-11e6df018e09",
   "metadata": {},
   "outputs": [
    {
     "data": {
      "text/plain": [
       "101"
      ]
     },
     "execution_count": 1,
     "metadata": {},
     "output_type": "execute_result"
    }
   ],
   "source": [
    "101"
   ]
  },
  {
   "cell_type": "code",
   "execution_count": 2,
   "id": "ea513fe5-3332-4d18-ad32-43dbb7a0a724",
   "metadata": {},
   "outputs": [
    {
     "data": {
      "text/plain": [
       "5"
      ]
     },
     "execution_count": 2,
     "metadata": {},
     "output_type": "execute_result"
    }
   ],
   "source": [
    "0b101"
   ]
  },
  {
   "cell_type": "code",
   "execution_count": 3,
   "id": "ed0610a6-7642-4816-83cd-a331efe180e8",
   "metadata": {},
   "outputs": [
    {
     "data": {
      "text/plain": [
       "65"
      ]
     },
     "execution_count": 3,
     "metadata": {},
     "output_type": "execute_result"
    }
   ],
   "source": [
    "0o101"
   ]
  },
  {
   "cell_type": "code",
   "execution_count": 4,
   "id": "720a017f-79c8-4f18-a4e2-472c3d0ac436",
   "metadata": {},
   "outputs": [
    {
     "data": {
      "text/plain": [
       "257"
      ]
     },
     "execution_count": 4,
     "metadata": {},
     "output_type": "execute_result"
    }
   ],
   "source": [
    "0x101"
   ]
  },
  {
   "cell_type": "code",
   "execution_count": 5,
   "id": "88fd197c-5e68-439e-a992-8c9f30e70558",
   "metadata": {},
   "outputs": [
    {
     "data": {
      "text/plain": [
       "'114'"
      ]
     },
     "execution_count": 5,
     "metadata": {},
     "output_type": "execute_result"
    }
   ],
   "source": [
    "f'{114}'"
   ]
  },
  {
   "cell_type": "code",
   "execution_count": 6,
   "id": "5ddadd80-ffc7-4b95-844e-fd01d75e1b44",
   "metadata": {},
   "outputs": [
    {
     "data": {
      "text/plain": [
       "'1110010'"
      ]
     },
     "execution_count": 6,
     "metadata": {},
     "output_type": "execute_result"
    }
   ],
   "source": [
    "f'{114:b}'"
   ]
  },
  {
   "cell_type": "code",
   "execution_count": 7,
   "id": "e2f77e8d-84e3-4d67-b100-2177b2a6712e",
   "metadata": {},
   "outputs": [
    {
     "data": {
      "text/plain": [
       "'162'"
      ]
     },
     "execution_count": 7,
     "metadata": {},
     "output_type": "execute_result"
    }
   ],
   "source": [
    "f'{114:o}'"
   ]
  },
  {
   "cell_type": "code",
   "execution_count": 8,
   "id": "32984f65-f7b7-45bb-b698-e52c6fd50bc4",
   "metadata": {},
   "outputs": [
    {
     "data": {
      "text/plain": [
       "114"
      ]
     },
     "execution_count": 8,
     "metadata": {},
     "output_type": "execute_result"
    }
   ],
   "source": [
    "2 + 6 * 8 + 1 * 8 ** 2"
   ]
  },
  {
   "cell_type": "code",
   "execution_count": 9,
   "id": "d79a648f-86cb-4516-9416-2b919cca2274",
   "metadata": {},
   "outputs": [
    {
     "data": {
      "text/plain": [
       "'72'"
      ]
     },
     "execution_count": 9,
     "metadata": {},
     "output_type": "execute_result"
    }
   ],
   "source": [
    "f'{114:x}'"
   ]
  },
  {
   "cell_type": "code",
   "execution_count": 10,
   "id": "5e780207-d0c5-43fa-a2eb-06e029aa8ead",
   "metadata": {},
   "outputs": [
    {
     "data": {
      "text/plain": [
       "114"
      ]
     },
     "execution_count": 10,
     "metadata": {},
     "output_type": "execute_result"
    }
   ],
   "source": [
    "2 + 16 * 7"
   ]
  },
  {
   "cell_type": "code",
   "execution_count": 11,
   "id": "49f3d4fd-f1d5-44d5-b00d-b029e3ccb5cd",
   "metadata": {},
   "outputs": [
    {
     "data": {
      "text/plain": [
       "'0b1110010'"
      ]
     },
     "execution_count": 11,
     "metadata": {},
     "output_type": "execute_result"
    }
   ],
   "source": [
    "bin(114)"
   ]
  },
  {
   "cell_type": "code",
   "execution_count": 12,
   "id": "16776f10-8e9e-4e1d-8ec4-8d5a5192b9b8",
   "metadata": {},
   "outputs": [
    {
     "data": {
      "text/plain": [
       "'0o162'"
      ]
     },
     "execution_count": 12,
     "metadata": {},
     "output_type": "execute_result"
    }
   ],
   "source": [
    "oct(114)"
   ]
  },
  {
   "cell_type": "code",
   "execution_count": 15,
   "id": "64d7f9b4-68fd-4844-835e-ddb14c045b65",
   "metadata": {},
   "outputs": [
    {
     "data": {
      "text/plain": [
       "'0x72'"
      ]
     },
     "execution_count": 15,
     "metadata": {},
     "output_type": "execute_result"
    }
   ],
   "source": [
    "hex(114)"
   ]
  },
  {
   "cell_type": "code",
   "execution_count": 16,
   "id": "5037e1a0-fb74-4877-8ec5-829cbd71b8e6",
   "metadata": {},
   "outputs": [
    {
     "data": {
      "text/plain": [
       "101"
      ]
     },
     "execution_count": 16,
     "metadata": {},
     "output_type": "execute_result"
    }
   ],
   "source": [
    "int('101')"
   ]
  },
  {
   "cell_type": "code",
   "execution_count": 17,
   "id": "eb4fa9ae-3da0-44ff-b069-a20e4020edd7",
   "metadata": {},
   "outputs": [
    {
     "ename": "ValueError",
     "evalue": "invalid literal for int() with base 10: '0b101'",
     "output_type": "error",
     "traceback": [
      "\u001b[0;31m---------------------------------------------------------------------------\u001b[0m",
      "\u001b[0;31mValueError\u001b[0m                                Traceback (most recent call last)",
      "Cell \u001b[0;32mIn[17], line 1\u001b[0m\n\u001b[0;32m----> 1\u001b[0m \u001b[38;5;28;43mint\u001b[39;49m\u001b[43m(\u001b[49m\u001b[38;5;124;43m'\u001b[39;49m\u001b[38;5;124;43m0b101\u001b[39;49m\u001b[38;5;124;43m'\u001b[39;49m\u001b[43m)\u001b[49m\n",
      "\u001b[0;31mValueError\u001b[0m: invalid literal for int() with base 10: '0b101'"
     ]
    }
   ],
   "source": [
    "int('0b101')"
   ]
  },
  {
   "cell_type": "code",
   "execution_count": 18,
   "id": "45dc782e-e585-4710-b6c8-09a2dbaa87a8",
   "metadata": {},
   "outputs": [
    {
     "data": {
      "text/plain": [
       "5"
      ]
     },
     "execution_count": 18,
     "metadata": {},
     "output_type": "execute_result"
    }
   ],
   "source": [
    "int('0b101', 2)"
   ]
  },
  {
   "cell_type": "code",
   "execution_count": 19,
   "id": "459e064d-c75b-4224-aaec-55bce54aa9dd",
   "metadata": {},
   "outputs": [
    {
     "ename": "ValueError",
     "evalue": "invalid literal for int() with base 2: '0b201'",
     "output_type": "error",
     "traceback": [
      "\u001b[0;31m---------------------------------------------------------------------------\u001b[0m",
      "\u001b[0;31mValueError\u001b[0m                                Traceback (most recent call last)",
      "Cell \u001b[0;32mIn[19], line 1\u001b[0m\n\u001b[0;32m----> 1\u001b[0m \u001b[38;5;28;43mint\u001b[39;49m\u001b[43m(\u001b[49m\u001b[38;5;124;43m'\u001b[39;49m\u001b[38;5;124;43m0b201\u001b[39;49m\u001b[38;5;124;43m'\u001b[39;49m\u001b[43m,\u001b[49m\u001b[43m \u001b[49m\u001b[38;5;241;43m2\u001b[39;49m\u001b[43m)\u001b[49m\n",
      "\u001b[0;31mValueError\u001b[0m: invalid literal for int() with base 2: '0b201'"
     ]
    }
   ],
   "source": [
    "int('0b201', 2)"
   ]
  },
  {
   "cell_type": "code",
   "execution_count": 20,
   "id": "6bc95578-6cc5-445a-bdfa-8413b31d4fda",
   "metadata": {},
   "outputs": [
    {
     "data": {
      "text/plain": [
       "5"
      ]
     },
     "execution_count": 20,
     "metadata": {},
     "output_type": "execute_result"
    }
   ],
   "source": [
    "int('0b101', 0)"
   ]
  },
  {
   "cell_type": "code",
   "execution_count": 22,
   "id": "0c1f93ba-7b16-4d5b-893f-518669566c4b",
   "metadata": {},
   "outputs": [
    {
     "data": {
      "text/plain": [
       "5"
      ]
     },
     "execution_count": 22,
     "metadata": {},
     "output_type": "execute_result"
    }
   ],
   "source": [
    "int('101', 2)"
   ]
  },
  {
   "cell_type": "code",
   "execution_count": 23,
   "id": "b11c5c8f-6de5-4528-8e40-c603c36f51a3",
   "metadata": {},
   "outputs": [
    {
     "data": {
      "text/plain": [
       "101"
      ]
     },
     "execution_count": 23,
     "metadata": {},
     "output_type": "execute_result"
    }
   ],
   "source": [
    "int('101', 0)"
   ]
  },
  {
   "cell_type": "code",
   "execution_count": 24,
   "id": "2322b4a3-3a40-4fc4-8a5d-7ad62d09bb12",
   "metadata": {},
   "outputs": [
    {
     "data": {
      "text/plain": [
       "35"
      ]
     },
     "execution_count": 24,
     "metadata": {},
     "output_type": "execute_result"
    }
   ],
   "source": [
    "int('z', 36)"
   ]
  },
  {
   "cell_type": "code",
   "execution_count": 25,
   "id": "3f0eeebc-c119-47bc-9709-6f1bbd23bc69",
   "metadata": {},
   "outputs": [
    {
     "data": {
      "text/plain": [
       "'1110010'"
      ]
     },
     "execution_count": 25,
     "metadata": {},
     "output_type": "execute_result"
    }
   ],
   "source": [
    "f'{114:b}'"
   ]
  },
  {
   "cell_type": "code",
   "execution_count": 26,
   "id": "06cfa5f5-9492-4324-861a-b7bd4d61d1a0",
   "metadata": {},
   "outputs": [
    {
     "data": {
      "text/plain": [
       "'11'"
      ]
     },
     "execution_count": 26,
     "metadata": {},
     "output_type": "execute_result"
    }
   ],
   "source": [
    "f'{3:b}'"
   ]
  },
  {
   "cell_type": "code",
   "execution_count": 27,
   "id": "3c5c5790-85dd-4070-ae9b-e84e1587df94",
   "metadata": {},
   "outputs": [
    {
     "data": {
      "text/plain": [
       "'      11'"
      ]
     },
     "execution_count": 27,
     "metadata": {},
     "output_type": "execute_result"
    }
   ],
   "source": [
    "f'{3:8b}'"
   ]
  },
  {
   "cell_type": "code",
   "execution_count": 28,
   "id": "0cf6074b-3946-4bd6-8a91-b37ab3301b7a",
   "metadata": {},
   "outputs": [
    {
     "data": {
      "text/plain": [
       "'00000011'"
      ]
     },
     "execution_count": 28,
     "metadata": {},
     "output_type": "execute_result"
    }
   ],
   "source": [
    "f'{3:08b}'"
   ]
  },
  {
   "cell_type": "code",
   "execution_count": 29,
   "id": "1ca00b1e-e3c8-4c4e-a87e-3af92f519ec6",
   "metadata": {},
   "outputs": [
    {
     "data": {
      "text/plain": [
       "'01110010'"
      ]
     },
     "execution_count": 29,
     "metadata": {},
     "output_type": "execute_result"
    }
   ],
   "source": [
    "f'{114:08b}'"
   ]
  },
  {
   "cell_type": "code",
   "execution_count": 30,
   "id": "522526f2-036a-4ce7-b034-67fa9e32ee31",
   "metadata": {},
   "outputs": [
    {
     "data": {
      "text/plain": [
       "[0, 1, 1, 1, 0, 0, 1, 0]"
      ]
     },
     "execution_count": 30,
     "metadata": {},
     "output_type": "execute_result"
    }
   ],
   "source": [
    "[int(e) for e in f'{114:08b}']"
   ]
  },
  {
   "cell_type": "code",
   "execution_count": 31,
   "id": "2de136ba-0864-4bbc-b767-3c756a1f9707",
   "metadata": {},
   "outputs": [],
   "source": [
    "rule_nb = 114"
   ]
  },
  {
   "cell_type": "code",
   "execution_count": 32,
   "id": "81cf7373-e6f0-4537-b7e1-5fdd8b25c25b",
   "metadata": {},
   "outputs": [
    {
     "data": {
      "text/plain": [
       "[0, 1, 1, 1, 0, 0, 1, 0]"
      ]
     },
     "execution_count": 32,
     "metadata": {},
     "output_type": "execute_result"
    }
   ],
   "source": [
    "[int(e) for e in f'{rule_nb:08b}']"
   ]
  },
  {
   "cell_type": "code",
   "execution_count": 33,
   "id": "92bf8018-4082-4257-b3c2-cf6f52ca5ca5",
   "metadata": {},
   "outputs": [
    {
     "name": "stdout",
     "output_type": "stream",
     "text": [
      "0\n",
      "1\n",
      "10\n",
      "11\n",
      "100\n",
      "101\n",
      "110\n",
      "111\n"
     ]
    }
   ],
   "source": [
    "for i in range(8):\n",
    "    print(f'{i:b}')"
   ]
  },
  {
   "cell_type": "code",
   "execution_count": 34,
   "id": "05dca8b3-d6e8-4440-8854-f1f7ab96e666",
   "metadata": {},
   "outputs": [
    {
     "name": "stdout",
     "output_type": "stream",
     "text": [
      "000\n",
      "001\n",
      "010\n",
      "011\n",
      "100\n",
      "101\n",
      "110\n",
      "111\n"
     ]
    }
   ],
   "source": [
    "for i in range(8):\n",
    "    print(f'{i:03b}')"
   ]
  },
  {
   "cell_type": "code",
   "execution_count": 35,
   "id": "db2d6b28-25b1-4dfe-9759-df68fc1deb32",
   "metadata": {},
   "outputs": [
    {
     "name": "stdout",
     "output_type": "stream",
     "text": [
      "('0', '0', '0')\n",
      "('0', '0', '1')\n",
      "('0', '1', '0')\n",
      "('0', '1', '1')\n",
      "('1', '0', '0')\n",
      "('1', '0', '1')\n",
      "('1', '1', '0')\n",
      "('1', '1', '1')\n"
     ]
    }
   ],
   "source": [
    "for i in range(8):\n",
    "    print(tuple(e for e in f'{i:03b}'))"
   ]
  },
  {
   "cell_type": "code",
   "execution_count": 36,
   "id": "1640d8e2-c979-45fe-9e41-cd494b632b6a",
   "metadata": {},
   "outputs": [
    {
     "name": "stdout",
     "output_type": "stream",
     "text": [
      "(0, 0, 0)\n",
      "(0, 0, 1)\n",
      "(0, 1, 0)\n",
      "(0, 1, 1)\n",
      "(1, 0, 0)\n",
      "(1, 0, 1)\n",
      "(1, 1, 0)\n",
      "(1, 1, 1)\n"
     ]
    }
   ],
   "source": [
    "for i in range(8):\n",
    "    print(tuple(int(e) for e in f'{i:03b}'))"
   ]
  },
  {
   "cell_type": "code",
   "execution_count": 38,
   "id": "e12f3466-2b6d-4105-bb08-9871fad706a1",
   "metadata": {},
   "outputs": [
    {
     "data": {
      "text/plain": [
       "(2412545, 3)"
      ]
     },
     "execution_count": 38,
     "metadata": {},
     "output_type": "execute_result"
    },
    {
     "data": {
      "text/plain": [
       "(241254, 53)"
      ]
     },
     "execution_count": 38,
     "metadata": {},
     "output_type": "execute_result"
    },
    {
     "data": {
      "text/plain": [
       "(24125, 453)"
      ]
     },
     "execution_count": 38,
     "metadata": {},
     "output_type": "execute_result"
    }
   ],
   "source": [
    "24125453 // 10, 24125453 % 10\n",
    "24125453 // 100, 24125453 % 100\n",
    "24125453 // 1000, 24125453 % 1000"
   ]
  },
  {
   "cell_type": "code",
   "execution_count": 44,
   "id": "c55b23a5-327b-4e9d-ba1c-3f84d31fd9b7",
   "metadata": {},
   "outputs": [
    {
     "data": {
      "text/plain": [
       "(57, 1)"
      ]
     },
     "execution_count": 44,
     "metadata": {},
     "output_type": "execute_result"
    },
    {
     "data": {
      "text/plain": [
       "('1110011', '111001', '1')"
      ]
     },
     "execution_count": 44,
     "metadata": {},
     "output_type": "execute_result"
    },
    {
     "data": {
      "text/plain": [
       "('1110011', '11100', '11')"
      ]
     },
     "execution_count": 44,
     "metadata": {},
     "output_type": "execute_result"
    },
    {
     "data": {
      "text/plain": [
       "('1110011', '1110', '011')"
      ]
     },
     "execution_count": 44,
     "metadata": {},
     "output_type": "execute_result"
    }
   ],
   "source": [
    "115 // 2, 115 % 2\n",
    "f'{115:b}', f'{115 // 2:b}', f'{115 % 2:01b}'\n",
    "f'{115:b}', f'{115 // 4:b}', f'{115 % 4:02b}'\n",
    "f'{115:b}', f'{115 // 8:b}', f'{115 % 8:03b}'"
   ]
  },
  {
   "cell_type": "code",
   "execution_count": 45,
   "id": "76428504-8358-4f2b-a713-525bae7f4bb2",
   "metadata": {},
   "outputs": [
    {
     "name": "stdout",
     "output_type": "stream",
     "text": [
      "(0, 0, 0)\n",
      "(0, 0, 1)\n",
      "(0, 1, 0)\n",
      "(0, 1, 1)\n",
      "(1, 0, 0)\n",
      "(1, 0, 1)\n",
      "(1, 1, 0)\n",
      "(1, 1, 1)\n"
     ]
    }
   ],
   "source": [
    "for i in range(8):\n",
    "    print((i // 4, i // 2 % 2,i % 2))"
   ]
  },
  {
   "cell_type": "code",
   "execution_count": 46,
   "id": "578e37a0-bea0-48ca-90e9-cba1dda29167",
   "metadata": {},
   "outputs": [],
   "source": [
    "bits_of_rule = [int(e) for e in f'{rule_nb:08b}']"
   ]
  },
  {
   "cell_type": "code",
   "execution_count": 47,
   "id": "4191c035-4c52-43e5-9419-2d80e5a3fe98",
   "metadata": {},
   "outputs": [
    {
     "data": {
      "text/plain": [
       "[0, 1, 1, 1, 0, 0, 1, 0]"
      ]
     },
     "execution_count": 47,
     "metadata": {},
     "output_type": "execute_result"
    }
   ],
   "source": [
    "bits_of_rule"
   ]
  },
  {
   "cell_type": "code",
   "execution_count": 48,
   "id": "fef966e4-2993-42cf-b53d-1bfef44b32b3",
   "metadata": {},
   "outputs": [],
   "source": [
    "mapping = {(i // 4, i // 2 % 2, i % 2): None for i in range(8)}"
   ]
  },
  {
   "cell_type": "code",
   "execution_count": 49,
   "id": "dfd1fd37-1428-4dbc-9771-750c984cd71e",
   "metadata": {},
   "outputs": [
    {
     "data": {
      "text/plain": [
       "{(0, 0, 0): None,\n",
       " (0, 0, 1): None,\n",
       " (0, 1, 0): None,\n",
       " (0, 1, 1): None,\n",
       " (1, 0, 0): None,\n",
       " (1, 0, 1): None,\n",
       " (1, 1, 0): None,\n",
       " (1, 1, 1): None}"
      ]
     },
     "execution_count": 49,
     "metadata": {},
     "output_type": "execute_result"
    }
   ],
   "source": [
    "mapping"
   ]
  },
  {
   "cell_type": "code",
   "execution_count": 50,
   "id": "49353776-e75f-4799-bac5-45bb581f2444",
   "metadata": {},
   "outputs": [],
   "source": [
    "mapping = {(i // 4, i // 2 % 2, i % 2): bits_of_rule[i] for i in range(8)}"
   ]
  },
  {
   "cell_type": "code",
   "execution_count": 51,
   "id": "65775635-b53a-4ebd-915b-5ca4c2ec77e3",
   "metadata": {},
   "outputs": [
    {
     "data": {
      "text/plain": [
       "{(0, 0, 0): 0,\n",
       " (0, 0, 1): 1,\n",
       " (0, 1, 0): 1,\n",
       " (0, 1, 1): 1,\n",
       " (1, 0, 0): 0,\n",
       " (1, 0, 1): 0,\n",
       " (1, 1, 0): 1,\n",
       " (1, 1, 1): 0}"
      ]
     },
     "execution_count": 51,
     "metadata": {},
     "output_type": "execute_result"
    }
   ],
   "source": [
    "mapping"
   ]
  },
  {
   "cell_type": "code",
   "execution_count": 52,
   "id": "7339ee19-2382-4be9-836a-b30ae3cef61f",
   "metadata": {},
   "outputs": [
    {
     "data": {
      "text/plain": [
       "[0, 1, 1, 1, 0, 0, 1, 0]"
      ]
     },
     "execution_count": 52,
     "metadata": {},
     "output_type": "execute_result"
    }
   ],
   "source": [
    "bits_of_rule"
   ]
  },
  {
   "cell_type": "code",
   "execution_count": 53,
   "id": "9db2f4d9-a545-4307-a5df-489bc8b29e63",
   "metadata": {},
   "outputs": [],
   "source": [
    "mapping = {(i // 4, i // 2 % 2, i % 2): bits_of_rule[7 - i] for i in range(8)}"
   ]
  },
  {
   "cell_type": "code",
   "execution_count": 54,
   "id": "627c1179-cc6a-448d-bbc4-a74de3cd8491",
   "metadata": {},
   "outputs": [
    {
     "data": {
      "text/plain": [
       "{(0, 0, 0): 0,\n",
       " (0, 0, 1): 1,\n",
       " (0, 1, 0): 0,\n",
       " (0, 1, 1): 0,\n",
       " (1, 0, 0): 1,\n",
       " (1, 0, 1): 1,\n",
       " (1, 1, 0): 1,\n",
       " (1, 1, 1): 0}"
      ]
     },
     "execution_count": 54,
     "metadata": {},
     "output_type": "execute_result"
    }
   ],
   "source": [
    "mapping"
   ]
  },
  {
   "cell_type": "code",
   "execution_count": 56,
   "id": "9e072935-48d5-453f-9086-fd4f2e81c7a6",
   "metadata": {},
   "outputs": [
    {
     "data": {
      "text/plain": [
       "'\\x12'"
      ]
     },
     "execution_count": 56,
     "metadata": {},
     "output_type": "execute_result"
    }
   ],
   "source": [
    "chr(18)"
   ]
  },
  {
   "cell_type": "code",
   "execution_count": 57,
   "id": "1f0f8170-9e2a-41ff-af65-c91a9066d525",
   "metadata": {},
   "outputs": [
    {
     "data": {
      "text/plain": [
       "'&'"
      ]
     },
     "execution_count": 57,
     "metadata": {},
     "output_type": "execute_result"
    }
   ],
   "source": [
    "chr(38)"
   ]
  },
  {
   "cell_type": "code",
   "execution_count": 58,
   "id": "ae621e1e-7d5f-4e52-a0dc-d0973f5b4063",
   "metadata": {},
   "outputs": [
    {
     "data": {
      "text/plain": [
       "'D'"
      ]
     },
     "execution_count": 58,
     "metadata": {},
     "output_type": "execute_result"
    }
   ],
   "source": [
    "chr(68)"
   ]
  },
  {
   "cell_type": "code",
   "execution_count": 60,
   "id": "5f70ef48-d8bf-4b04-853c-59ff26ce03ac",
   "metadata": {},
   "outputs": [
    {
     "ename": "ValueError",
     "evalue": "chr() arg not in range(0x110000)",
     "output_type": "error",
     "traceback": [
      "\u001b[0;31m---------------------------------------------------------------------------\u001b[0m",
      "\u001b[0;31mValueError\u001b[0m                                Traceback (most recent call last)",
      "Cell \u001b[0;32mIn[60], line 1\u001b[0m\n\u001b[0;32m----> 1\u001b[0m \u001b[38;5;28;43mchr\u001b[39;49m\u001b[43m(\u001b[49m\u001b[38;5;241;43m6123218\u001b[39;49m\u001b[43m)\u001b[49m\n",
      "\u001b[0;31mValueError\u001b[0m: chr() arg not in range(0x110000)"
     ]
    }
   ],
   "source": [
    "chr(6123218)"
   ]
  },
  {
   "cell_type": "code",
   "execution_count": 61,
   "id": "5bc97396-1472-489d-9872-23f0d9c74079",
   "metadata": {},
   "outputs": [
    {
     "data": {
      "text/plain": [
       "11035"
      ]
     },
     "execution_count": 61,
     "metadata": {},
     "output_type": "execute_result"
    }
   ],
   "source": [
    "0x2B1B"
   ]
  },
  {
   "cell_type": "code",
   "execution_count": 62,
   "id": "5804d3fc-6f36-4673-bf7c-ae88c31070f5",
   "metadata": {},
   "outputs": [
    {
     "data": {
      "text/plain": [
       "'⬛'"
      ]
     },
     "execution_count": 62,
     "metadata": {},
     "output_type": "execute_result"
    }
   ],
   "source": [
    "chr(11035)"
   ]
  },
  {
   "cell_type": "code",
   "execution_count": 63,
   "id": "017677ae-9b37-48f7-88be-e245a3b9076f",
   "metadata": {},
   "outputs": [
    {
     "name": "stdout",
     "output_type": "stream",
     "text": [
      "⬛\n"
     ]
    }
   ],
   "source": [
    "print('⬛')"
   ]
  },
  {
   "cell_type": "code",
   "execution_count": 64,
   "id": "5baf3346-211a-497a-91d9-006282d041ed",
   "metadata": {},
   "outputs": [
    {
     "data": {
      "text/plain": [
       "'⬛'"
      ]
     },
     "execution_count": 64,
     "metadata": {},
     "output_type": "execute_result"
    }
   ],
   "source": [
    "chr(0x2B1B)"
   ]
  },
  {
   "cell_type": "code",
   "execution_count": 65,
   "id": "d4b430f1-b1d1-4867-abc2-6f046bff061d",
   "metadata": {},
   "outputs": [
    {
     "data": {
      "text/plain": [
       "'⬛'"
      ]
     },
     "execution_count": 65,
     "metadata": {},
     "output_type": "execute_result"
    }
   ],
   "source": [
    "'\\u2B1B'"
   ]
  },
  {
   "cell_type": "code",
   "execution_count": 66,
   "id": "3f00b4e9-6308-41b9-8e1b-e4d49a52b426",
   "metadata": {},
   "outputs": [
    {
     "data": {
      "text/plain": [
       "11035"
      ]
     },
     "execution_count": 66,
     "metadata": {},
     "output_type": "execute_result"
    }
   ],
   "source": [
    "ord('⬛')"
   ]
  },
  {
   "cell_type": "code",
   "execution_count": 67,
   "id": "92bbe9c2-cd96-4f90-b291-8b9419f6ecf8",
   "metadata": {},
   "outputs": [
    {
     "data": {
      "text/plain": [
       "43"
      ]
     },
     "execution_count": 67,
     "metadata": {},
     "output_type": "execute_result"
    }
   ],
   "source": [
    "ord('+')"
   ]
  },
  {
   "cell_type": "code",
   "execution_count": 68,
   "id": "8d1b5343-404f-461b-8bc3-99368245457e",
   "metadata": {},
   "outputs": [
    {
     "name": "stdout",
     "output_type": "stream",
     "text": [
      "+\n"
     ]
    }
   ],
   "source": [
    "print('+')"
   ]
  },
  {
   "cell_type": "code",
   "execution_count": 70,
   "id": "b2a00172-0d8a-4783-84a9-b3edf4aa9d17",
   "metadata": {},
   "outputs": [
    {
     "ename": "SyntaxError",
     "evalue": "(unicode error) 'unicodeescape' codec can't decode bytes in position 0-3: truncated \\uXXXX escape (2961444721.py, line 1)",
     "output_type": "error",
     "traceback": [
      "\u001b[0;36m  Cell \u001b[0;32mIn[70], line 1\u001b[0;36m\u001b[0m\n\u001b[0;31m    print('\\u2b')\u001b[0m\n\u001b[0m          ^\u001b[0m\n\u001b[0;31mSyntaxError\u001b[0m\u001b[0;31m:\u001b[0m (unicode error) 'unicodeescape' codec can't decode bytes in position 0-3: truncated \\uXXXX escape\n"
     ]
    }
   ],
   "source": [
    "print('\\u2b')"
   ]
  },
  {
   "cell_type": "code",
   "execution_count": 69,
   "id": "91604366-454d-4996-857d-5a4a5e1e8453",
   "metadata": {},
   "outputs": [
    {
     "data": {
      "text/plain": [
       "'0x2b'"
      ]
     },
     "execution_count": 69,
     "metadata": {},
     "output_type": "execute_result"
    }
   ],
   "source": [
    "hex(43)"
   ]
  },
  {
   "cell_type": "code",
   "execution_count": 71,
   "id": "8ec9239a-33a5-48ab-9d5b-4e484a213af1",
   "metadata": {},
   "outputs": [
    {
     "name": "stdout",
     "output_type": "stream",
     "text": [
      "+\n"
     ]
    }
   ],
   "source": [
    "print('\\u002b')"
   ]
  },
  {
   "cell_type": "code",
   "execution_count": 72,
   "id": "3efbea89-2c2e-4c47-b215-a73ffb4692ff",
   "metadata": {},
   "outputs": [
    {
     "data": {
      "text/plain": [
       "'😋'"
      ]
     },
     "execution_count": 72,
     "metadata": {},
     "output_type": "execute_result"
    }
   ],
   "source": [
    "'😋'"
   ]
  },
  {
   "cell_type": "code",
   "execution_count": 73,
   "id": "b2152bdd-838f-4481-b62e-238d90855eb2",
   "metadata": {},
   "outputs": [
    {
     "data": {
      "text/plain": [
       "128523"
      ]
     },
     "execution_count": 73,
     "metadata": {},
     "output_type": "execute_result"
    }
   ],
   "source": [
    "ord('😋')"
   ]
  },
  {
   "cell_type": "code",
   "execution_count": 74,
   "id": "e3d10bca-fef3-4545-9f3b-395d43526bd7",
   "metadata": {},
   "outputs": [
    {
     "data": {
      "text/plain": [
       "'😋'"
      ]
     },
     "execution_count": 74,
     "metadata": {},
     "output_type": "execute_result"
    }
   ],
   "source": [
    "chr(128523)"
   ]
  },
  {
   "cell_type": "code",
   "execution_count": 75,
   "id": "b52698d2-fcec-47b3-9bd8-6968db634196",
   "metadata": {},
   "outputs": [
    {
     "data": {
      "text/plain": [
       "'0x1f60b'"
      ]
     },
     "execution_count": 75,
     "metadata": {},
     "output_type": "execute_result"
    }
   ],
   "source": [
    "hex(128523)"
   ]
  },
  {
   "cell_type": "code",
   "execution_count": 77,
   "id": "1126f688-9b70-4e98-9f98-6707dc93d44f",
   "metadata": {},
   "outputs": [
    {
     "name": "stdout",
     "output_type": "stream",
     "text": [
      "😋\n"
     ]
    }
   ],
   "source": [
    "print('\\U0001f60b')"
   ]
  },
  {
   "cell_type": "code",
   "execution_count": 78,
   "id": "a7349be0-6d91-440c-b36a-60bce2366f2b",
   "metadata": {},
   "outputs": [
    {
     "name": "stdout",
     "output_type": "stream",
     "text": [
      "+\n"
     ]
    }
   ],
   "source": [
    "print('\\U0000002b')"
   ]
  },
  {
   "cell_type": "code",
   "execution_count": 79,
   "id": "861e9003-9638-443f-8c65-a4135efae239",
   "metadata": {},
   "outputs": [
    {
     "data": {
      "text/plain": [
       "'😋'"
      ]
     },
     "execution_count": 79,
     "metadata": {},
     "output_type": "execute_result"
    }
   ],
   "source": [
    "'\\N{FACE SAVOURING DELICIOUS FOOD}'"
   ]
  },
  {
   "cell_type": "code",
   "execution_count": 83,
   "id": "d63e42f4-06a9-4061-980d-573273cb148d",
   "metadata": {},
   "outputs": [],
   "source": [
    "squares = {0: '\\u2B1C', 1: '\\u2B1B'}"
   ]
  },
  {
   "cell_type": "code",
   "execution_count": 84,
   "id": "80187ea2-eacd-4fa5-90cd-eb9a2b365649",
   "metadata": {},
   "outputs": [
    {
     "data": {
      "text/plain": [
       "{0: '⬜', 1: '⬛'}"
      ]
     },
     "execution_count": 84,
     "metadata": {},
     "output_type": "execute_result"
    }
   ],
   "source": [
    "squares"
   ]
  },
  {
   "cell_type": "code",
   "execution_count": 85,
   "id": "dc73f9d8-4916-4100-a4e8-a7981221f4dc",
   "metadata": {},
   "outputs": [],
   "source": [
    "def draw_outside_cone(e, n):\n",
    "    print(squares[e] * n, end='')"
   ]
  },
  {
   "cell_type": "code",
   "execution_count": 86,
   "id": "5d80c0ac-b49f-48a4-a07f-fd199923cd32",
   "metadata": {},
   "outputs": [
    {
     "name": "stdout",
     "output_type": "stream",
     "text": [
      "⬜⬜⬜⬜⬜"
     ]
    }
   ],
   "source": [
    "draw_outside_cone(0, 5)"
   ]
  },
  {
   "cell_type": "code",
   "execution_count": 87,
   "id": "8f9f55b0-2cf7-4e52-bdf6-7aaa9cfaf1df",
   "metadata": {},
   "outputs": [
    {
     "name": "stdout",
     "output_type": "stream",
     "text": [
      "⬛⬛⬛⬛⬛⬛⬛"
     ]
    }
   ],
   "source": [
    "draw_outside_cone(1, 7)"
   ]
  },
  {
   "cell_type": "code",
   "execution_count": null,
   "id": "6563fcc9-cb73-461d-bac5-bc7adf945eb2",
   "metadata": {},
   "outputs": [],
   "source": [
    "draw_line([1, 0, 0, 1, 1], 0, 6)"
   ]
  },
  {
   "cell_type": "code",
   "execution_count": 88,
   "id": "128a64c1-4e3c-474f-b3e6-0bab257a8eaa",
   "metadata": {},
   "outputs": [],
   "source": [
    "L = [1, 0, 0, 1, 1]"
   ]
  },
  {
   "cell_type": "code",
   "execution_count": 89,
   "id": "107dd94b-d1ce-4526-8d56-31dd70f01f61",
   "metadata": {},
   "outputs": [
    {
     "data": {
      "text/plain": [
       "['⬛', '⬜', '⬜', '⬛', '⬛']"
      ]
     },
     "execution_count": 89,
     "metadata": {},
     "output_type": "execute_result"
    }
   ],
   "source": [
    "[squares[e] for e in L]"
   ]
  },
  {
   "cell_type": "code",
   "execution_count": 90,
   "id": "d7532532-8236-4c05-86fc-b3119ddb1fec",
   "metadata": {},
   "outputs": [
    {
     "data": {
      "text/plain": [
       "'⬛⬜⬜⬛⬛'"
      ]
     },
     "execution_count": 90,
     "metadata": {},
     "output_type": "execute_result"
    }
   ],
   "source": [
    "''.join(squares[e] for e in L)"
   ]
  },
  {
   "cell_type": "code",
   "execution_count": 91,
   "id": "3099ebbc-8ce0-4f8e-8def-588d83e8f7d1",
   "metadata": {},
   "outputs": [],
   "source": [
    "def draw_line(line, bit_outside, size_outside_cone):\n",
    "    draw_outside_cone(bit_outside, size_outside_cone)\n",
    "    print(''.join(squares[e] for e in line))\n",
    "    draw_outside_cone(bit_outside, size_outside_cone)\n",
    "    print()"
   ]
  },
  {
   "cell_type": "code",
   "execution_count": 92,
   "id": "49c265c9-e738-4bdf-82f8-16273fd4adb8",
   "metadata": {},
   "outputs": [
    {
     "name": "stdout",
     "output_type": "stream",
     "text": [
      "⬜⬜⬜⬜⬜⬜⬛⬜⬜⬛⬛\n",
      "⬜⬜⬜⬜⬜⬜\n"
     ]
    }
   ],
   "source": [
    "draw_line([1, 0, 0, 1, 1], 0, 6)"
   ]
  },
  {
   "cell_type": "code",
   "execution_count": 93,
   "id": "03dcb9b3-58a6-4f4c-a718-b6a3dd5f95d4",
   "metadata": {},
   "outputs": [],
   "source": [
    "def draw_line(line, bit_outside, size_outside_cone):\n",
    "    draw_outside_cone(bit_outside, size_outside_cone)\n",
    "    print(''.join(squares[e] for e in line), end='')\n",
    "    draw_outside_cone(bit_outside, size_outside_cone)\n",
    "    print()"
   ]
  },
  {
   "cell_type": "code",
   "execution_count": 94,
   "id": "cb2e3d5b-05e6-4ff2-9a34-b9e168fe7cb9",
   "metadata": {},
   "outputs": [
    {
     "name": "stdout",
     "output_type": "stream",
     "text": [
      "⬜⬜⬜⬜⬜⬜⬛⬜⬜⬛⬛⬜⬜⬜⬜⬜⬜\n"
     ]
    }
   ],
   "source": [
    "draw_line([1, 0, 0, 1, 1], 0, 6)"
   ]
  },
  {
   "cell_type": "code",
   "execution_count": 95,
   "id": "94588916-79b3-4e11-874e-6ba7178ad626",
   "metadata": {},
   "outputs": [],
   "source": [
    "size = 10"
   ]
  },
  {
   "cell_type": "code",
   "execution_count": 96,
   "id": "45c80f13-7454-42a4-a51d-9b54d0238eb2",
   "metadata": {},
   "outputs": [],
   "source": [
    "current_line = [0] * 10 + [1] + [0] * 10"
   ]
  },
  {
   "cell_type": "code",
   "execution_count": 97,
   "id": "02ba9752-123e-41bd-9840-d296ad065771",
   "metadata": {},
   "outputs": [
    {
     "data": {
      "text/plain": [
       "[0, 0, 0, 0, 0, 0, 0, 0, 0, 0, 1, 0, 0, 0, 0, 0, 0, 0, 0, 0, 0]"
      ]
     },
     "execution_count": 97,
     "metadata": {},
     "output_type": "execute_result"
    }
   ],
   "source": [
    "current_line"
   ]
  },
  {
   "cell_type": "code",
   "execution_count": 98,
   "id": "bbfbebc0-bc38-41b1-9465-263ce7bfc747",
   "metadata": {},
   "outputs": [
    {
     "name": "stdout",
     "output_type": "stream",
     "text": [
      "⬜⬜⬜⬜⬜⬜⬜⬜⬜⬜⬛⬜⬜⬜⬜⬜⬜⬜⬜⬜⬜\n"
     ]
    }
   ],
   "source": [
    "within_code = [1]\n",
    "bit_outside = 0\n",
    "width = 10\n",
    "draw_line(within_code, bit_outside, width)"
   ]
  },
  {
   "cell_type": "code",
   "execution_count": 104,
   "id": "3a91ddcf-1cf8-4b6e-8a40-6aae48602b4d",
   "metadata": {},
   "outputs": [
    {
     "name": "stdout",
     "output_type": "stream",
     "text": [
      "⬜⬜⬜⬜⬜⬜⬜⬜⬜⬜⬛⬜⬜⬜⬜⬜⬜⬜⬜⬜⬜\n",
      "⬜⬜⬜⬜⬜⬜⬜⬜⬜⬜⬜⬜⬜⬜⬜⬜⬜⬜⬜⬜\n",
      "⬜⬜⬜⬜⬜⬜⬜⬜⬜⬜⬜⬜⬜⬜⬜⬜⬜⬜⬜⬜\n",
      "⬜⬜⬜⬜⬜⬜⬜⬜⬜⬜⬜⬜⬜⬜⬜⬜⬜⬜⬜⬜\n",
      "⬜⬜⬜⬜⬜⬜⬜⬜⬜⬜⬜⬜⬜⬜⬜⬜⬜⬜⬜⬜\n",
      "⬜⬜⬜⬜⬜⬜⬜⬜⬜⬜⬜⬜⬜⬜⬜⬜⬜⬜⬜⬜\n",
      "⬜⬜⬜⬜⬜⬜⬜⬜⬜⬜⬜⬜⬜⬜⬜⬜⬜⬜⬜⬜\n",
      "⬜⬜⬜⬜⬜⬜⬜⬜⬜⬜⬜⬜⬜⬜⬜⬜⬜⬜⬜⬜\n",
      "⬜⬜⬜⬜⬜⬜⬜⬜⬜⬜⬜⬜⬜⬜⬜⬜⬜⬜⬜⬜\n",
      "⬜⬜⬜⬜⬜⬜⬜⬜⬜⬜⬜⬜⬜⬜⬜⬜⬜⬜⬜⬜\n",
      "⬜⬜⬜⬜⬜⬜⬜⬜⬜⬜⬜⬜⬜⬜⬜⬜⬜⬜⬜⬜\n"
     ]
    }
   ],
   "source": [
    "within_code = [1]\n",
    "bit_outside = 0\n",
    "width = 10\n",
    "draw_line(within_code, bit_outside, width)\n",
    "for i in range(width):\n",
    "    within_code = [mapping[within_code[j], within_code[j + 1], within_code[j + 2]]\n",
    "                       for j in range(len(within_code) - 2)\n",
    "                  ]\n",
    "    bit_outside = mapping[bit_outside, bit_outside, bit_outside]\n",
    "    draw_line(within_code, bit_outside, width)"
   ]
  },
  {
   "cell_type": "code",
   "execution_count": 99,
   "id": "9df38a40-1654-46f9-904e-516b5dd64fd6",
   "metadata": {},
   "outputs": [
    {
     "data": {
      "text/plain": [
       "{(0, 0, 0): 0,\n",
       " (0, 0, 1): 1,\n",
       " (0, 1, 0): 0,\n",
       " (0, 1, 1): 0,\n",
       " (1, 0, 0): 1,\n",
       " (1, 0, 1): 1,\n",
       " (1, 1, 0): 1,\n",
       " (1, 1, 1): 0}"
      ]
     },
     "execution_count": 99,
     "metadata": {},
     "output_type": "execute_result"
    }
   ],
   "source": [
    "mapping"
   ]
  },
  {
   "cell_type": "code",
   "execution_count": 105,
   "id": "79d9eb7a-53b2-4468-9c4e-5fcf42ed8171",
   "metadata": {},
   "outputs": [],
   "source": [
    "rule_nb = 90"
   ]
  },
  {
   "cell_type": "code",
   "execution_count": 106,
   "id": "392b193d-c0d3-4fb0-9ca8-7c48d21aedb4",
   "metadata": {},
   "outputs": [],
   "source": [
    "bits_of_rule = [int(e) for e in f'{rule_nb:08b}']"
   ]
  },
  {
   "cell_type": "code",
   "execution_count": 107,
   "id": "9c19fe41-a537-4d5f-b7f2-fc9394e475fb",
   "metadata": {},
   "outputs": [
    {
     "data": {
      "text/plain": [
       "[0, 1, 0, 1, 1, 0, 1, 0]"
      ]
     },
     "execution_count": 107,
     "metadata": {},
     "output_type": "execute_result"
    }
   ],
   "source": [
    "bits_of_rule"
   ]
  },
  {
   "cell_type": "code",
   "execution_count": 108,
   "id": "d8456910-4c2f-4b2b-a0f7-3f7591dcab03",
   "metadata": {},
   "outputs": [],
   "source": [
    "mapping = {(i // 4, i // 2 % 2, i % 2): bits_of_rule[7 - i] for i in range(8)}"
   ]
  },
  {
   "cell_type": "code",
   "execution_count": 111,
   "id": "fe384f0b-8abc-43b3-adf9-c68b45680f5f",
   "metadata": {},
   "outputs": [
    {
     "name": "stdout",
     "output_type": "stream",
     "text": [
      "⬜⬜⬜⬜⬜⬜⬜⬜⬜⬜⬛⬜⬜⬜⬜⬜⬜⬜⬜⬜⬜\n",
      "⬜⬜⬜⬜⬜⬜⬜⬜⬜⬜⬛⬜⬛⬜⬜⬜⬜⬜⬜⬜⬜⬜⬜\n",
      "⬜⬜⬜⬜⬜⬜⬜⬜⬜⬜⬛⬜⬜⬜⬛⬜⬜⬜⬜⬜⬜⬜⬜⬜⬜\n",
      "⬜⬜⬜⬜⬜⬜⬜⬜⬜⬜⬛⬜⬛⬜⬛⬜⬛⬜⬜⬜⬜⬜⬜⬜⬜⬜⬜\n",
      "⬜⬜⬜⬜⬜⬜⬜⬜⬜⬜⬛⬜⬜⬜⬜⬜⬜⬜⬛⬜⬜⬜⬜⬜⬜⬜⬜⬜⬜\n",
      "⬜⬜⬜⬜⬜⬜⬜⬜⬜⬜⬛⬜⬛⬜⬜⬜⬜⬜⬛⬜⬛⬜⬜⬜⬜⬜⬜⬜⬜⬜⬜\n",
      "⬜⬜⬜⬜⬜⬜⬜⬜⬜⬜⬛⬜⬜⬜⬛⬜⬜⬜⬛⬜⬜⬜⬛⬜⬜⬜⬜⬜⬜⬜⬜⬜⬜\n",
      "⬜⬜⬜⬜⬜⬜⬜⬜⬜⬜⬛⬜⬛⬜⬛⬜⬛⬜⬛⬜⬛⬜⬛⬜⬛⬜⬜⬜⬜⬜⬜⬜⬜⬜⬜\n",
      "⬜⬜⬜⬜⬜⬜⬜⬜⬜⬜⬛⬜⬜⬜⬜⬜⬜⬜⬜⬜⬜⬜⬜⬜⬜⬜⬛⬜⬜⬜⬜⬜⬜⬜⬜⬜⬜\n",
      "⬜⬜⬜⬜⬜⬜⬜⬜⬜⬜⬛⬜⬛⬜⬜⬜⬜⬜⬜⬜⬜⬜⬜⬜⬜⬜⬛⬜⬛⬜⬜⬜⬜⬜⬜⬜⬜⬜⬜\n",
      "⬜⬜⬜⬜⬜⬜⬜⬜⬜⬜⬛⬜⬜⬜⬛⬜⬜⬜⬜⬜⬜⬜⬜⬜⬜⬜⬛⬜⬜⬜⬛⬜⬜⬜⬜⬜⬜⬜⬜⬜⬜\n"
     ]
    }
   ],
   "source": [
    "within_code = [1]\n",
    "bit_outside = 0\n",
    "width = 10\n",
    "draw_line(within_code, bit_outside, width)\n",
    "for i in range(width):\n",
    "    within_code = [bit_outside, bit_outside] + within_code + [bit_outside, bit_outside]\n",
    "    within_code = [mapping[within_code[j], within_code[j + 1], within_code[j + 2]]\n",
    "                       for j in range(len(within_code) - 2)\n",
    "                  ]\n",
    "    bit_outside = mapping[bit_outside, bit_outside, bit_outside]\n",
    "    draw_line(within_code, bit_outside, width)"
   ]
  },
  {
   "cell_type": "code",
   "execution_count": 112,
   "id": "cebcb90b-0d67-4b67-b952-a8683338dcbf",
   "metadata": {},
   "outputs": [
    {
     "name": "stdout",
     "output_type": "stream",
     "text": [
      "⬜⬜⬜⬜⬜⬜⬜⬜⬜⬜⬛⬜⬜⬜⬜⬜⬜⬜⬜⬜⬜\n",
      "⬜⬜⬜⬜⬜⬜⬜⬜⬜⬛⬜⬛⬜⬜⬜⬜⬜⬜⬜⬜⬜\n",
      "⬜⬜⬜⬜⬜⬜⬜⬜⬛⬜⬜⬜⬛⬜⬜⬜⬜⬜⬜⬜⬜\n",
      "⬜⬜⬜⬜⬜⬜⬜⬛⬜⬛⬜⬛⬜⬛⬜⬜⬜⬜⬜⬜⬜\n",
      "⬜⬜⬜⬜⬜⬜⬛⬜⬜⬜⬜⬜⬜⬜⬛⬜⬜⬜⬜⬜⬜\n",
      "⬜⬜⬜⬜⬜⬛⬜⬛⬜⬜⬜⬜⬜⬛⬜⬛⬜⬜⬜⬜⬜\n",
      "⬜⬜⬜⬜⬛⬜⬜⬜⬛⬜⬜⬜⬛⬜⬜⬜⬛⬜⬜⬜⬜\n",
      "⬜⬜⬜⬛⬜⬛⬜⬛⬜⬛⬜⬛⬜⬛⬜⬛⬜⬛⬜⬜⬜\n",
      "⬜⬜⬛⬜⬜⬜⬜⬜⬜⬜⬜⬜⬜⬜⬜⬜⬜⬜⬛⬜⬜\n",
      "⬜⬛⬜⬛⬜⬜⬜⬜⬜⬜⬜⬜⬜⬜⬜⬜⬜⬛⬜⬛⬜\n",
      "⬛⬜⬜⬜⬛⬜⬜⬜⬜⬜⬜⬜⬜⬜⬜⬜⬛⬜⬜⬜⬛\n"
     ]
    }
   ],
   "source": [
    "within_code = [1]\n",
    "bit_outside = 0\n",
    "width = 10\n",
    "draw_line(within_code, bit_outside, width)\n",
    "for i in range(width):\n",
    "    within_code = [bit_outside, bit_outside] + within_code + [bit_outside, bit_outside]\n",
    "    within_code = [mapping[within_code[j], within_code[j + 1], within_code[j + 2]]\n",
    "                       for j in range(len(within_code) - 2)\n",
    "                  ]\n",
    "    bit_outside = mapping[bit_outside, bit_outside, bit_outside]\n",
    "    draw_line(within_code, bit_outside, width - i - 1)"
   ]
  },
  {
   "cell_type": "code",
   "execution_count": 113,
   "id": "e624a40d-10a9-4c5f-b7a8-331b17cefc4c",
   "metadata": {},
   "outputs": [
    {
     "data": {
      "text/plain": [
       "[0, 1, 2, 5, 6, 8]"
      ]
     },
     "execution_count": 113,
     "metadata": {},
     "output_type": "execute_result"
    }
   ],
   "source": [
    "sorted({2, 1, 5, 6, 0, 8})"
   ]
  },
  {
   "cell_type": "code",
   "execution_count": 114,
   "id": "e7ce3f89-d917-4c8b-a551-b0419b6932ee",
   "metadata": {},
   "outputs": [
    {
     "data": {
      "text/plain": [
       "[-8, -5, 0, 1, 2, 6, 13]"
      ]
     },
     "execution_count": 114,
     "metadata": {},
     "output_type": "execute_result"
    }
   ],
   "source": [
    "sorted({2, 1, -5, 6, 0, -8, 13})"
   ]
  },
  {
   "cell_type": "code",
   "execution_count": 115,
   "id": "493df457-e8d4-495b-8aa3-fd82ebd56141",
   "metadata": {},
   "outputs": [
    {
     "data": {
      "text/plain": [
       "[0, 1, 2, -5, 6, -8, 13]"
      ]
     },
     "execution_count": 115,
     "metadata": {},
     "output_type": "execute_result"
    }
   ],
   "source": [
    "sorted({2, 1, -5, 6, 0, -8, 13}, key=abs)"
   ]
  },
  {
   "cell_type": "code",
   "execution_count": 116,
   "id": "8b5c611c-be2a-4fc7-a8c7-9024041200a0",
   "metadata": {},
   "outputs": [
    {
     "data": {
      "text/plain": [
       "[2, 3, 37, 58, 111, 378, 695]"
      ]
     },
     "execution_count": 116,
     "metadata": {},
     "output_type": "execute_result"
    }
   ],
   "source": [
    "sorted({2, 111, 58, 695, 3, 37, 378})"
   ]
  },
  {
   "cell_type": "code",
   "execution_count": 117,
   "id": "744ba535-27cf-408a-919f-a32fdc928966",
   "metadata": {},
   "outputs": [],
   "source": [
    "def f(x):\n",
    "    return len(str(x))"
   ]
  },
  {
   "cell_type": "code",
   "execution_count": 118,
   "id": "197a9b7a-f41b-4256-8d9e-5dfda0a66f4a",
   "metadata": {},
   "outputs": [
    {
     "data": {
      "text/plain": [
       "[2, 3, 37, 58, 695, 378, 111]"
      ]
     },
     "execution_count": 118,
     "metadata": {},
     "output_type": "execute_result"
    }
   ],
   "source": [
    "sorted({2, 111, 58, 695, 3, 37, 378}, key=f)"
   ]
  },
  {
   "cell_type": "code",
   "execution_count": 119,
   "id": "c1c5d295-3e5f-4f52-81f4-7f8d53d22176",
   "metadata": {},
   "outputs": [],
   "source": [
    "def f(x):\n",
    "    return -len(str(x))"
   ]
  },
  {
   "cell_type": "code",
   "execution_count": 120,
   "id": "4ad338d2-01aa-4f7a-a6e3-770c9edae39b",
   "metadata": {},
   "outputs": [
    {
     "data": {
      "text/plain": [
       "[695, 378, 111, 37, 58, 2, 3]"
      ]
     },
     "execution_count": 120,
     "metadata": {},
     "output_type": "execute_result"
    }
   ],
   "source": [
    "sorted({2, 111, 58, 695, 3, 37, 378}, key=f)"
   ]
  },
  {
   "cell_type": "code",
   "execution_count": 121,
   "id": "5c1fb0a1-4413-4c70-ad55-9170b6bf5d51",
   "metadata": {},
   "outputs": [
    {
     "data": {
      "text/plain": [
       "[111, 695, 378, 58, 37, 2, 3]"
      ]
     },
     "execution_count": 121,
     "metadata": {},
     "output_type": "execute_result"
    }
   ],
   "source": [
    "sorted([2, 111, 58, 695, 3, 37, 378], key=f)"
   ]
  },
  {
   "cell_type": "code",
   "execution_count": 122,
   "id": "88731269-27a7-4eb7-b94e-b1e54aa5ff9b",
   "metadata": {},
   "outputs": [],
   "source": [
    "def f(x):\n",
    "    return -len(str(x)), x"
   ]
  },
  {
   "cell_type": "code",
   "execution_count": 123,
   "id": "869f2457-b6f1-4440-bccc-1fe26378f695",
   "metadata": {},
   "outputs": [
    {
     "data": {
      "text/plain": [
       "[111, 378, 695, 37, 58, 2, 3]"
      ]
     },
     "execution_count": 123,
     "metadata": {},
     "output_type": "execute_result"
    }
   ],
   "source": [
    "sorted([2, 111, 58, 695, 3, 37, 378], key=f)"
   ]
  },
  {
   "cell_type": "code",
   "execution_count": 124,
   "id": "6afae027-6da6-43a9-8d45-a9160f5c4368",
   "metadata": {},
   "outputs": [
    {
     "data": {
      "text/plain": [
       "[(1, 4), (2, -5), (2, 1)]"
      ]
     },
     "execution_count": 124,
     "metadata": {},
     "output_type": "execute_result"
    }
   ],
   "source": [
    "sorted([(2, 1), (1, 4), (2, -5)])"
   ]
  },
  {
   "cell_type": "code",
   "execution_count": 125,
   "id": "a2d23621-ee02-40d6-a39d-929473547543",
   "metadata": {},
   "outputs": [
    {
     "data": {
      "text/plain": [
       "<function __main__.<lambda>()>"
      ]
     },
     "execution_count": 125,
     "metadata": {},
     "output_type": "execute_result"
    }
   ],
   "source": [
    "lambda: 10"
   ]
  },
  {
   "cell_type": "code",
   "execution_count": 126,
   "id": "ab7dd1e5-4f47-43e0-b9ed-df6a77d90c45",
   "metadata": {},
   "outputs": [
    {
     "name": "stderr",
     "output_type": "stream",
     "text": [
      "<>:1: SyntaxWarning: 'int' object is not callable; perhaps you missed a comma?\n",
      "<>:1: SyntaxWarning: 'int' object is not callable; perhaps you missed a comma?\n",
      "/var/folders/22/1v351fd93qjf7j2gg8b7ztbh0000gn/T/ipykernel_30302/3214410157.py:1: SyntaxWarning: 'int' object is not callable; perhaps you missed a comma?\n",
      "  lambda: 10()\n"
     ]
    },
    {
     "data": {
      "text/plain": [
       "<function __main__.<lambda>()>"
      ]
     },
     "execution_count": 126,
     "metadata": {},
     "output_type": "execute_result"
    }
   ],
   "source": [
    "lambda: 10()"
   ]
  },
  {
   "cell_type": "code",
   "execution_count": 127,
   "id": "6a2dc9f1-3fcc-42e4-b437-b6ed74b31b43",
   "metadata": {},
   "outputs": [
    {
     "data": {
      "text/plain": [
       "10"
      ]
     },
     "execution_count": 127,
     "metadata": {},
     "output_type": "execute_result"
    }
   ],
   "source": [
    "(lambda: 10)()"
   ]
  },
  {
   "cell_type": "code",
   "execution_count": 128,
   "id": "0e96d3e9-ef1f-46ad-97f1-263a5eaba9e1",
   "metadata": {},
   "outputs": [
    {
     "ename": "TypeError",
     "evalue": "<lambda>() takes 0 positional arguments but 1 was given",
     "output_type": "error",
     "traceback": [
      "\u001b[0;31m---------------------------------------------------------------------------\u001b[0m",
      "\u001b[0;31mTypeError\u001b[0m                                 Traceback (most recent call last)",
      "Cell \u001b[0;32mIn[128], line 1\u001b[0m\n\u001b[0;32m----> 1\u001b[0m \u001b[43m(\u001b[49m\u001b[38;5;28;43;01mlambda\u001b[39;49;00m\u001b[43m:\u001b[49m\u001b[43m \u001b[49m\u001b[38;5;241;43m10\u001b[39;49m\u001b[43m)\u001b[49m\u001b[43m(\u001b[49m\u001b[38;5;241;43m2\u001b[39;49m\u001b[43m)\u001b[49m\n",
      "\u001b[0;31mTypeError\u001b[0m: <lambda>() takes 0 positional arguments but 1 was given"
     ]
    }
   ],
   "source": [
    "(lambda: 10)(2)"
   ]
  },
  {
   "cell_type": "code",
   "execution_count": 129,
   "id": "a8d3d41a-42e0-41af-83f3-c11721ef75f6",
   "metadata": {},
   "outputs": [
    {
     "data": {
      "text/plain": [
       "10"
      ]
     },
     "execution_count": 129,
     "metadata": {},
     "output_type": "execute_result"
    }
   ],
   "source": [
    "I = lambda: 10\n",
    "I()"
   ]
  },
  {
   "cell_type": "code",
   "execution_count": 130,
   "id": "7dcb69e1-1540-4a0d-b2e0-c54d0df74e8f",
   "metadata": {},
   "outputs": [
    {
     "data": {
      "text/plain": [
       "<function __main__.<lambda>(x)>"
      ]
     },
     "execution_count": 130,
     "metadata": {},
     "output_type": "execute_result"
    }
   ],
   "source": [
    "lambda x: 2 + 3"
   ]
  },
  {
   "cell_type": "code",
   "execution_count": 131,
   "id": "87e89748-e3aa-4d87-b5ef-7eda4dbef2be",
   "metadata": {},
   "outputs": [
    {
     "ename": "TypeError",
     "evalue": "<lambda>() missing 1 required positional argument: 'x'",
     "output_type": "error",
     "traceback": [
      "\u001b[0;31m---------------------------------------------------------------------------\u001b[0m",
      "\u001b[0;31mTypeError\u001b[0m                                 Traceback (most recent call last)",
      "Cell \u001b[0;32mIn[131], line 1\u001b[0m\n\u001b[0;32m----> 1\u001b[0m \u001b[43m(\u001b[49m\u001b[38;5;28;43;01mlambda\u001b[39;49;00m\u001b[43m \u001b[49m\u001b[43mx\u001b[49m\u001b[43m:\u001b[49m\u001b[43m \u001b[49m\u001b[38;5;241;43m2\u001b[39;49m\u001b[43m \u001b[49m\u001b[38;5;241;43m+\u001b[39;49m\u001b[43m \u001b[49m\u001b[38;5;241;43m3\u001b[39;49m\u001b[43m)\u001b[49m\u001b[43m(\u001b[49m\u001b[43m)\u001b[49m\n",
      "\u001b[0;31mTypeError\u001b[0m: <lambda>() missing 1 required positional argument: 'x'"
     ]
    }
   ],
   "source": [
    "(lambda x: 2 + 3)()"
   ]
  },
  {
   "cell_type": "code",
   "execution_count": 133,
   "id": "79bc0a38-aa5b-4114-b643-ba8be7a6fa49",
   "metadata": {},
   "outputs": [
    {
     "ename": "TypeError",
     "evalue": "<lambda>() takes 1 positional argument but 2 were given",
     "output_type": "error",
     "traceback": [
      "\u001b[0;31m---------------------------------------------------------------------------\u001b[0m",
      "\u001b[0;31mTypeError\u001b[0m                                 Traceback (most recent call last)",
      "Cell \u001b[0;32mIn[133], line 1\u001b[0m\n\u001b[0;32m----> 1\u001b[0m \u001b[43m(\u001b[49m\u001b[38;5;28;43;01mlambda\u001b[39;49;00m\u001b[43m \u001b[49m\u001b[43mx\u001b[49m\u001b[43m:\u001b[49m\u001b[43m \u001b[49m\u001b[38;5;241;43m2\u001b[39;49m\u001b[43m \u001b[49m\u001b[38;5;241;43m+\u001b[39;49m\u001b[43m \u001b[49m\u001b[38;5;241;43m3\u001b[39;49m\u001b[43m)\u001b[49m\u001b[43m(\u001b[49m\u001b[38;5;241;43m3\u001b[39;49m\u001b[43m,\u001b[49m\u001b[43m \u001b[49m\u001b[38;5;241;43m4\u001b[39;49m\u001b[43m)\u001b[49m\n",
      "\u001b[0;31mTypeError\u001b[0m: <lambda>() takes 1 positional argument but 2 were given"
     ]
    }
   ],
   "source": [
    "(lambda x: 2 + 3)(3, 4)"
   ]
  },
  {
   "cell_type": "code",
   "execution_count": 134,
   "id": "9754f2a6-47c7-4430-a698-c06bedae7619",
   "metadata": {},
   "outputs": [
    {
     "data": {
      "text/plain": [
       "5"
      ]
     },
     "execution_count": 134,
     "metadata": {},
     "output_type": "execute_result"
    },
    {
     "data": {
      "text/plain": [
       "5"
      ]
     },
     "execution_count": 134,
     "metadata": {},
     "output_type": "execute_result"
    }
   ],
   "source": [
    "(lambda x: 2 + 3)(7)\n",
    "(lambda x: 2 + 3)(10)"
   ]
  },
  {
   "cell_type": "code",
   "execution_count": 135,
   "id": "78b80dbd-e78f-42df-9d89-618e14caead4",
   "metadata": {},
   "outputs": [
    {
     "data": {
      "text/plain": [
       "10"
      ]
     },
     "execution_count": 135,
     "metadata": {},
     "output_type": "execute_result"
    },
    {
     "data": {
      "text/plain": [
       "13"
      ]
     },
     "execution_count": 135,
     "metadata": {},
     "output_type": "execute_result"
    }
   ],
   "source": [
    "(lambda x: x + 3)(7)\n",
    "(lambda x: x + 3)(10)"
   ]
  },
  {
   "cell_type": "code",
   "execution_count": 136,
   "id": "8c0eb4c7-3e34-45db-aeb1-e90f6996be58",
   "metadata": {},
   "outputs": [
    {
     "data": {
      "text/plain": [
       "10"
      ]
     },
     "execution_count": 136,
     "metadata": {},
     "output_type": "execute_result"
    },
    {
     "data": {
      "text/plain": [
       "13"
      ]
     },
     "execution_count": 136,
     "metadata": {},
     "output_type": "execute_result"
    }
   ],
   "source": [
    "I = lambda x: x + 3\n",
    "I(7)\n",
    "I(10)"
   ]
  },
  {
   "cell_type": "code",
   "execution_count": 137,
   "id": "322b8280-81bb-4e3c-868d-2da04cff0953",
   "metadata": {},
   "outputs": [
    {
     "data": {
      "text/plain": [
       "<function __main__.<lambda>(x, y)>"
      ]
     },
     "execution_count": 137,
     "metadata": {},
     "output_type": "execute_result"
    }
   ],
   "source": [
    "lambda x, y : x + y + 10"
   ]
  },
  {
   "cell_type": "code",
   "execution_count": 138,
   "id": "8bacd713-e0a8-4795-9657-ad7f4d3e11ee",
   "metadata": {},
   "outputs": [
    {
     "data": {
      "text/plain": [
       "17"
      ]
     },
     "execution_count": 138,
     "metadata": {},
     "output_type": "execute_result"
    }
   ],
   "source": [
    "(lambda x, y : x + y + 10)(3, 4)"
   ]
  },
  {
   "cell_type": "code",
   "execution_count": 139,
   "id": "d7c5bd6f-77bc-45d8-b1a6-512bc8ea1795",
   "metadata": {},
   "outputs": [
    {
     "data": {
      "text/plain": [
       "17"
      ]
     },
     "execution_count": 139,
     "metadata": {},
     "output_type": "execute_result"
    }
   ],
   "source": [
    "I = lambda x, y : x + y + 10\n",
    "I(3, 4)"
   ]
  },
  {
   "cell_type": "code",
   "execution_count": 140,
   "id": "5594827b-80c7-42be-b810-0c128208b4dd",
   "metadata": {},
   "outputs": [
    {
     "data": {
      "text/plain": [
       "[111, 378, 695, 37, 58, 2, 3]"
      ]
     },
     "execution_count": 140,
     "metadata": {},
     "output_type": "execute_result"
    }
   ],
   "source": [
    "sorted([2, 111, 58, 695, 3, 37, 378], key=lambda x:(-len(str(x)), x))"
   ]
  },
  {
   "cell_type": "code",
   "execution_count": 141,
   "id": "83015a53-37f5-4715-8f61-a00ae4c3ba34",
   "metadata": {},
   "outputs": [],
   "source": [
    "keys = [(i // 4, i // 2 % 2, i % 2) for i in range(8)]"
   ]
  },
  {
   "cell_type": "code",
   "execution_count": 142,
   "id": "57c5799e-c5f1-410a-ba0f-afbf3607d2aa",
   "metadata": {},
   "outputs": [
    {
     "data": {
      "text/plain": [
       "[(0, 0, 0),\n",
       " (0, 0, 1),\n",
       " (0, 1, 0),\n",
       " (0, 1, 1),\n",
       " (1, 0, 0),\n",
       " (1, 0, 1),\n",
       " (1, 1, 0),\n",
       " (1, 1, 1)]"
      ]
     },
     "execution_count": 142,
     "metadata": {},
     "output_type": "execute_result"
    }
   ],
   "source": [
    "keys"
   ]
  },
  {
   "cell_type": "code",
   "execution_count": 143,
   "id": "ac64426c-d981-4564-afea-faa9abcd0355",
   "metadata": {},
   "outputs": [
    {
     "data": {
      "text/plain": [
       "[(0, 0, 0),\n",
       " (0, 0, 1),\n",
       " (0, 1, 0),\n",
       " (0, 1, 1),\n",
       " (1, 0, 0),\n",
       " (1, 0, 1),\n",
       " (1, 1, 0),\n",
       " (1, 1, 1)]"
      ]
     },
     "execution_count": 143,
     "metadata": {},
     "output_type": "execute_result"
    }
   ],
   "source": [
    "sorted(keys)"
   ]
  },
  {
   "cell_type": "code",
   "execution_count": 144,
   "id": "3aaa9f28-92ec-4bc0-96a2-25c67f8a59df",
   "metadata": {},
   "outputs": [
    {
     "data": {
      "text/plain": [
       "[(0, 0, 0),\n",
       " (1, 0, 0),\n",
       " (0, 1, 0),\n",
       " (1, 1, 0),\n",
       " (0, 0, 1),\n",
       " (1, 0, 1),\n",
       " (0, 1, 1),\n",
       " (1, 1, 1)]"
      ]
     },
     "execution_count": 144,
     "metadata": {},
     "output_type": "execute_result"
    }
   ],
   "source": [
    "sorted(keys, key=lambda x:(x[2], x[1], x[0]))"
   ]
  }
 ],
 "metadata": {
  "kernelspec": {
   "display_name": "Python 3 (ipykernel)",
   "language": "python",
   "name": "python3"
  },
  "language_info": {
   "codemirror_mode": {
    "name": "ipython",
    "version": 3
   },
   "file_extension": ".py",
   "mimetype": "text/x-python",
   "name": "python",
   "nbconvert_exporter": "python",
   "pygments_lexer": "ipython3",
   "version": "3.12.6"
  }
 },
 "nbformat": 4,
 "nbformat_minor": 5
}
