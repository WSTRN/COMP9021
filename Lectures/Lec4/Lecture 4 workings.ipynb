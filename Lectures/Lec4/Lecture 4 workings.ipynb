{
 "cells": [
  {
   "cell_type": "code",
   "execution_count": 2,
   "id": "bd524fb4-b08e-4d43-8b22-628b51b6c131",
   "metadata": {},
   "outputs": [
    {
     "data": {
      "text/plain": [
       "'78145'"
      ]
     },
     "execution_count": 2,
     "metadata": {},
     "output_type": "execute_result"
    },
    {
     "data": {
      "text/plain": [
       "5"
      ]
     },
     "execution_count": 2,
     "metadata": {},
     "output_type": "execute_result"
    }
   ],
   "source": [
    "str(78145)\n",
    "len(str(78145))"
   ]
  },
  {
   "cell_type": "code",
   "execution_count": 3,
   "id": "7a8da7d7-66a6-40ed-b38a-4cfb9caef00d",
   "metadata": {},
   "outputs": [],
   "source": [
    "import math"
   ]
  },
  {
   "cell_type": "code",
   "execution_count": 4,
   "id": "01cb357c-aea0-443c-96b9-88828edda58f",
   "metadata": {
    "scrolled": true
   },
   "outputs": [
    {
     "data": {
      "text/plain": [
       "['__doc__',\n",
       " '__file__',\n",
       " '__loader__',\n",
       " '__name__',\n",
       " '__package__',\n",
       " '__spec__',\n",
       " 'acos',\n",
       " 'acosh',\n",
       " 'asin',\n",
       " 'asinh',\n",
       " 'atan',\n",
       " 'atan2',\n",
       " 'atanh',\n",
       " 'cbrt',\n",
       " 'ceil',\n",
       " 'comb',\n",
       " 'copysign',\n",
       " 'cos',\n",
       " 'cosh',\n",
       " 'degrees',\n",
       " 'dist',\n",
       " 'e',\n",
       " 'erf',\n",
       " 'erfc',\n",
       " 'exp',\n",
       " 'exp2',\n",
       " 'expm1',\n",
       " 'fabs',\n",
       " 'factorial',\n",
       " 'floor',\n",
       " 'fmod',\n",
       " 'frexp',\n",
       " 'fsum',\n",
       " 'gamma',\n",
       " 'gcd',\n",
       " 'hypot',\n",
       " 'inf',\n",
       " 'isclose',\n",
       " 'isfinite',\n",
       " 'isinf',\n",
       " 'isnan',\n",
       " 'isqrt',\n",
       " 'lcm',\n",
       " 'ldexp',\n",
       " 'lgamma',\n",
       " 'log',\n",
       " 'log10',\n",
       " 'log1p',\n",
       " 'log2',\n",
       " 'modf',\n",
       " 'nan',\n",
       " 'nextafter',\n",
       " 'perm',\n",
       " 'pi',\n",
       " 'pow',\n",
       " 'prod',\n",
       " 'radians',\n",
       " 'remainder',\n",
       " 'sin',\n",
       " 'sinh',\n",
       " 'sqrt',\n",
       " 'sumprod',\n",
       " 'tan',\n",
       " 'tanh',\n",
       " 'tau',\n",
       " 'trunc',\n",
       " 'ulp']"
      ]
     },
     "execution_count": 4,
     "metadata": {},
     "output_type": "execute_result"
    }
   ],
   "source": [
    "dir(math)"
   ]
  },
  {
   "cell_type": "code",
   "execution_count": 6,
   "id": "f5a514c5-bde8-4904-be6a-ea8c4c1a5c53",
   "metadata": {},
   "outputs": [
    {
     "data": {
      "text/plain": [
       "2"
      ]
     },
     "execution_count": 6,
     "metadata": {},
     "output_type": "execute_result"
    },
    {
     "data": {
      "text/plain": [
       "2"
      ]
     },
     "execution_count": 6,
     "metadata": {},
     "output_type": "execute_result"
    },
    {
     "data": {
      "text/plain": [
       "3"
      ]
     },
     "execution_count": 6,
     "metadata": {},
     "output_type": "execute_result"
    },
    {
     "data": {
      "text/plain": [
       "4"
      ]
     },
     "execution_count": 6,
     "metadata": {},
     "output_type": "execute_result"
    }
   ],
   "source": [
    "math.floor(math.log10(10)) + 1\n",
    "math.floor(math.log10(99)) + 1\n",
    "math.floor(math.log10(100)) + 1\n",
    "math.floor(math.log10(1002)) + 1"
   ]
  },
  {
   "cell_type": "code",
   "execution_count": 8,
   "id": "c1eb86c7-6c66-4f8a-95a3-d9ffa3495cd0",
   "metadata": {},
   "outputs": [],
   "source": [
    "def compute_fraction(sigma, tau):\n",
    "    numerator = int(sigma) * (10 ** len(tau) - 1) + int(tau)\n",
    "    denominator = (10 ** len(tau) - 1) * 10 ** len(sigma)\n",
    "    return numerator, denominator"
   ]
  },
  {
   "cell_type": "code",
   "execution_count": 9,
   "id": "f3a8ffa8-f040-4014-bf34-38ae851e16aa",
   "metadata": {},
   "outputs": [
    {
     "data": {
      "text/plain": [
       "0.02541436464088398"
      ]
     },
     "execution_count": 9,
     "metadata": {},
     "output_type": "execute_result"
    }
   ],
   "source": [
    "23 / 905"
   ]
  },
  {
   "cell_type": "code",
   "execution_count": 10,
   "id": "aff12f31-af18-4f8d-865b-5c2ebb8c89c2",
   "metadata": {},
   "outputs": [
    {
     "data": {
      "text/plain": [
       "(23882, 99900)"
      ]
     },
     "execution_count": 10,
     "metadata": {},
     "output_type": "execute_result"
    }
   ],
   "source": [
    "compute_fraction('23', '905')"
   ]
  },
  {
   "cell_type": "code",
   "execution_count": 11,
   "id": "4bb920cf-caed-4cb0-8fb9-8aa03de9a33d",
   "metadata": {},
   "outputs": [
    {
     "data": {
      "text/plain": [
       "0.23905905905905905"
      ]
     },
     "execution_count": 11,
     "metadata": {},
     "output_type": "execute_result"
    }
   ],
   "source": [
    "23882 / 99900"
   ]
  },
  {
   "cell_type": "code",
   "execution_count": 12,
   "id": "9fddb4eb-3f15-40b8-9e48-2bce550c7d71",
   "metadata": {},
   "outputs": [
    {
     "ename": "NameError",
     "evalue": "name 'gcd' is not defined",
     "output_type": "error",
     "traceback": [
      "\u001b[0;31m---------------------------------------------------------------------------\u001b[0m",
      "\u001b[0;31mNameError\u001b[0m                                 Traceback (most recent call last)",
      "Cell \u001b[0;32mIn[12], line 1\u001b[0m\n\u001b[0;32m----> 1\u001b[0m \u001b[43mgcd\u001b[49m(\u001b[38;5;241m23882\u001b[39m, \u001b[38;5;241m99900\u001b[39m)\n",
      "\u001b[0;31mNameError\u001b[0m: name 'gcd' is not defined"
     ]
    }
   ],
   "source": [
    "gcd(23882, 99900)"
   ]
  },
  {
   "cell_type": "code",
   "execution_count": 13,
   "id": "7dbc0f3a-a092-4703-b036-94c9dd42bc2e",
   "metadata": {},
   "outputs": [
    {
     "data": {
      "text/plain": [
       "2"
      ]
     },
     "execution_count": 13,
     "metadata": {},
     "output_type": "execute_result"
    }
   ],
   "source": [
    "math.gcd(23882, 99900)"
   ]
  },
  {
   "cell_type": "code",
   "execution_count": 14,
   "id": "d83644b3-c59d-46cb-91a4-7df551f1431e",
   "metadata": {},
   "outputs": [
    {
     "data": {
      "text/plain": [
       "11941.0"
      ]
     },
     "execution_count": 14,
     "metadata": {},
     "output_type": "execute_result"
    }
   ],
   "source": [
    "23882 / 2"
   ]
  },
  {
   "cell_type": "code",
   "execution_count": 15,
   "id": "ef4f7c0e-70c5-432c-9e2d-cbf420b9b9b3",
   "metadata": {},
   "outputs": [
    {
     "data": {
      "text/plain": [
       "11941"
      ]
     },
     "execution_count": 15,
     "metadata": {},
     "output_type": "execute_result"
    }
   ],
   "source": [
    "23882 // 2"
   ]
  },
  {
   "cell_type": "code",
   "execution_count": 16,
   "id": "c5739db9-38ca-4b94-a5c5-38b9674af0b7",
   "metadata": {},
   "outputs": [
    {
     "data": {
      "text/plain": [
       "49950"
      ]
     },
     "execution_count": 16,
     "metadata": {},
     "output_type": "execute_result"
    }
   ],
   "source": [
    "99900 // 2"
   ]
  },
  {
   "cell_type": "code",
   "execution_count": 17,
   "id": "0b028509-059b-4d98-ba84-e8fbe3a77000",
   "metadata": {},
   "outputs": [
    {
     "data": {
      "text/plain": [
       "0.23905905905905905"
      ]
     },
     "execution_count": 17,
     "metadata": {},
     "output_type": "execute_result"
    }
   ],
   "source": [
    "11941 / 49950"
   ]
  },
  {
   "cell_type": "code",
   "execution_count": 18,
   "id": "1c946cf8-b1b3-4698-9e51-058350cdbab2",
   "metadata": {},
   "outputs": [
    {
     "data": {
      "text/plain": [
       "2.5"
      ]
     },
     "execution_count": 18,
     "metadata": {},
     "output_type": "execute_result"
    }
   ],
   "source": [
    "5 / 2"
   ]
  },
  {
   "cell_type": "code",
   "execution_count": 19,
   "id": "df0b96ce-205e-40f2-830f-d31793b368cd",
   "metadata": {},
   "outputs": [
    {
     "data": {
      "text/plain": [
       "2"
      ]
     },
     "execution_count": 19,
     "metadata": {},
     "output_type": "execute_result"
    }
   ],
   "source": [
    "5 // 2"
   ]
  },
  {
   "cell_type": "code",
   "execution_count": 20,
   "id": "5a48bc69-7378-444e-ada9-ff6371ab2a9c",
   "metadata": {},
   "outputs": [
    {
     "data": {
      "text/plain": [
       "-3"
      ]
     },
     "execution_count": 20,
     "metadata": {},
     "output_type": "execute_result"
    }
   ],
   "source": [
    "5 // -2"
   ]
  },
  {
   "cell_type": "code",
   "execution_count": 21,
   "id": "a6576cd8-b7ca-48a4-bf85-9b3e56b458ee",
   "metadata": {},
   "outputs": [
    {
     "data": {
      "text/plain": [
       "(2, 1)"
      ]
     },
     "execution_count": 21,
     "metadata": {},
     "output_type": "execute_result"
    }
   ],
   "source": [
    "5 // 2, 5 % 2"
   ]
  },
  {
   "cell_type": "code",
   "execution_count": 22,
   "id": "2e514278-7047-4622-b898-e9f787134396",
   "metadata": {},
   "outputs": [
    {
     "data": {
      "text/plain": [
       "(-3, 1)"
      ]
     },
     "execution_count": 22,
     "metadata": {},
     "output_type": "execute_result"
    }
   ],
   "source": [
    "-5 // 2, -5 % 2"
   ]
  },
  {
   "cell_type": "code",
   "execution_count": 23,
   "id": "46c73ab5-369f-47fb-af43-3f3066cd46b2",
   "metadata": {},
   "outputs": [
    {
     "data": {
      "text/plain": [
       "(-3, -1)"
      ]
     },
     "execution_count": 23,
     "metadata": {},
     "output_type": "execute_result"
    }
   ],
   "source": [
    "5 // -2, 5 % -2"
   ]
  },
  {
   "cell_type": "code",
   "execution_count": 24,
   "id": "331c7eae-ec3d-42de-b247-3de0dff738c6",
   "metadata": {},
   "outputs": [
    {
     "data": {
      "text/plain": [
       "(2, -1)"
      ]
     },
     "execution_count": 24,
     "metadata": {},
     "output_type": "execute_result"
    }
   ],
   "source": [
    "-5 // -2, -5 % -2"
   ]
  },
  {
   "cell_type": "code",
   "execution_count": 26,
   "id": "be23a5aa-b3a6-4f0d-9d2c-56a414eba1ab",
   "metadata": {},
   "outputs": [
    {
     "data": {
      "text/plain": [
       "4.0"
      ]
     },
     "execution_count": 26,
     "metadata": {},
     "output_type": "execute_result"
    },
    {
     "data": {
      "text/plain": [
       "4"
      ]
     },
     "execution_count": 26,
     "metadata": {},
     "output_type": "execute_result"
    }
   ],
   "source": [
    "8 / 2\n",
    "9 // 2"
   ]
  },
  {
   "cell_type": "code",
   "execution_count": 28,
   "id": "dff1b541-899b-4c80-a5ab-5473ec15b29e",
   "metadata": {},
   "outputs": [
    {
     "data": {
      "text/plain": [
       "3"
      ]
     },
     "execution_count": 28,
     "metadata": {},
     "output_type": "execute_result"
    }
   ],
   "source": [
    "math.gcd(168, 45)"
   ]
  },
  {
   "cell_type": "code",
   "execution_count": 30,
   "id": "b7761403-aadf-4263-8891-40e1a8bfb86f",
   "metadata": {},
   "outputs": [
    {
     "data": {
      "text/plain": [
       "3.7333333333333334"
      ]
     },
     "execution_count": 30,
     "metadata": {},
     "output_type": "execute_result"
    }
   ],
   "source": [
    "3 + (1 / (1 + 1 / (2 + 1 / (1 + 1 / (3)))))"
   ]
  },
  {
   "cell_type": "code",
   "execution_count": 31,
   "id": "cf9a95af-8c12-47ec-89b2-4e2249e87d87",
   "metadata": {},
   "outputs": [
    {
     "data": {
      "text/plain": [
       "3.7333333333333334"
      ]
     },
     "execution_count": 31,
     "metadata": {},
     "output_type": "execute_result"
    }
   ],
   "source": [
    "168 / 45"
   ]
  },
  {
   "cell_type": "code",
   "execution_count": 32,
   "id": "28c83c66-dc4b-488e-83e4-bdac1fcfab1d",
   "metadata": {},
   "outputs": [
    {
     "data": {
      "text/plain": [
       "0.5"
      ]
     },
     "execution_count": 32,
     "metadata": {},
     "output_type": "execute_result"
    }
   ],
   "source": [
    "1 / 2"
   ]
  },
  {
   "cell_type": "code",
   "execution_count": 33,
   "id": "29c45e38-3eb9-4ec5-8d1f-784e5dd56c0d",
   "metadata": {},
   "outputs": [
    {
     "data": {
      "text/plain": [
       "0.4"
      ]
     },
     "execution_count": 33,
     "metadata": {},
     "output_type": "execute_result"
    }
   ],
   "source": [
    "1 / (2 + 1 / 2)"
   ]
  },
  {
   "cell_type": "code",
   "execution_count": 34,
   "id": "985290d4-8720-4ba5-948d-33c34c850243",
   "metadata": {},
   "outputs": [
    {
     "data": {
      "text/plain": [
       "0.4166666666666667"
      ]
     },
     "execution_count": 34,
     "metadata": {},
     "output_type": "execute_result"
    }
   ],
   "source": [
    "1 / (2 + 1 / (2 + 1 / 2))"
   ]
  },
  {
   "cell_type": "code",
   "execution_count": 35,
   "id": "eba1d412-51a8-4236-b998-d7069ff960b9",
   "metadata": {},
   "outputs": [
    {
     "data": {
      "text/plain": [
       "0.4137931034482759"
      ]
     },
     "execution_count": 35,
     "metadata": {},
     "output_type": "execute_result"
    }
   ],
   "source": [
    "1 / (2 + 1 / (2 + 1 / (2 + 1 / 2)))"
   ]
  },
  {
   "cell_type": "code",
   "execution_count": 36,
   "id": "2fb15c34-bf3e-4e22-8031-9149319b3dd9",
   "metadata": {},
   "outputs": [
    {
     "data": {
      "text/plain": [
       "0.4142857142857143"
      ]
     },
     "execution_count": 36,
     "metadata": {},
     "output_type": "execute_result"
    }
   ],
   "source": [
    "1 / (2 + 1 / (2 + 1 / (2 + 1 / (2 + 1 / 2))))"
   ]
  },
  {
   "cell_type": "code",
   "execution_count": 37,
   "id": "334c5fd2-80f9-4677-8697-3d6793d3ab5a",
   "metadata": {},
   "outputs": [
    {
     "data": {
      "text/plain": [
       "0.41420118343195267"
      ]
     },
     "execution_count": 37,
     "metadata": {},
     "output_type": "execute_result"
    }
   ],
   "source": [
    "1 / (2 + 1 / (2 + 1 / (2 + 1 / (2 + 1 / (2 + 1 / 2)))))"
   ]
  },
  {
   "cell_type": "code",
   "execution_count": 38,
   "id": "76d2bb97-26f0-492d-b90b-df8ff7c31a05",
   "metadata": {},
   "outputs": [
    {
     "data": {
      "text/plain": [
       "1.4142135623730951"
      ]
     },
     "execution_count": 38,
     "metadata": {},
     "output_type": "execute_result"
    }
   ],
   "source": [
    "math.sqrt(2)"
   ]
  },
  {
   "cell_type": "code",
   "execution_count": 40,
   "id": "299ec7a9-47dc-4a5b-8a26-5d589a123f00",
   "metadata": {},
   "outputs": [],
   "source": [
    "def gcd(p, q):\n",
    "    while q != 0:\n",
    "        p, q = q, p % q\n",
    "    return q\n",
    "    "
   ]
  },
  {
   "cell_type": "code",
   "execution_count": 41,
   "id": "3f0202c1-cc0f-49ee-910c-7799bacf43af",
   "metadata": {},
   "outputs": [
    {
     "data": {
      "text/plain": [
       "0"
      ]
     },
     "execution_count": 41,
     "metadata": {},
     "output_type": "execute_result"
    }
   ],
   "source": [
    "gcd(168, 45)"
   ]
  },
  {
   "cell_type": "code",
   "execution_count": 42,
   "id": "4d1009b4-a41f-48b8-9738-44dd05b90330",
   "metadata": {},
   "outputs": [],
   "source": [
    "def gcd(p, q):\n",
    "    while q != 0:\n",
    "        p, q = q, p % q\n",
    "    return p"
   ]
  },
  {
   "cell_type": "code",
   "execution_count": 43,
   "id": "da860fa1-5e56-4a56-9ed3-6782c1417c1e",
   "metadata": {},
   "outputs": [
    {
     "data": {
      "text/plain": [
       "3"
      ]
     },
     "execution_count": 43,
     "metadata": {},
     "output_type": "execute_result"
    }
   ],
   "source": [
    "gcd(168, 45)"
   ]
  },
  {
   "cell_type": "code",
   "execution_count": 44,
   "id": "76dc54ce-666b-48d6-84e9-30ecd46c9825",
   "metadata": {},
   "outputs": [],
   "source": [
    "def gcd1(p, q):\n",
    "    while q != 0:\n",
    "        current_q = q\n",
    "        q = p % q\n",
    "        p = current_q\n",
    "    return p"
   ]
  },
  {
   "cell_type": "code",
   "execution_count": 45,
   "id": "33e8906a-f569-4bd3-84dd-224d66b06650",
   "metadata": {},
   "outputs": [
    {
     "data": {
      "text/plain": [
       "3"
      ]
     },
     "execution_count": 45,
     "metadata": {},
     "output_type": "execute_result"
    }
   ],
   "source": [
    "gcd1(168, 45)"
   ]
  },
  {
   "cell_type": "code",
   "execution_count": 46,
   "id": "9599ee6d-d8f0-436d-a8de-c68fe691f8b0",
   "metadata": {},
   "outputs": [],
   "source": [
    "def gcd(p, q):\n",
    "    while q:\n",
    "        p, q = q, p % q\n",
    "    return p"
   ]
  },
  {
   "cell_type": "code",
   "execution_count": 48,
   "id": "789b26d6-26a6-45c8-93dd-527cfd08f4c9",
   "metadata": {},
   "outputs": [
    {
     "data": {
      "text/plain": [
       "True"
      ]
     },
     "execution_count": 48,
     "metadata": {},
     "output_type": "execute_result"
    },
    {
     "data": {
      "text/plain": [
       "False"
      ]
     },
     "execution_count": 48,
     "metadata": {},
     "output_type": "execute_result"
    }
   ],
   "source": [
    "bool(7)\n",
    "bool(0)"
   ]
  },
  {
   "cell_type": "code",
   "execution_count": 58,
   "id": "0117c17a-09c1-4355-a97b-37d478507cf1",
   "metadata": {},
   "outputs": [
    {
     "data": {
      "text/plain": [
       "False"
      ]
     },
     "execution_count": 58,
     "metadata": {},
     "output_type": "execute_result"
    },
    {
     "data": {
      "text/plain": [
       "False"
      ]
     },
     "execution_count": 58,
     "metadata": {},
     "output_type": "execute_result"
    },
    {
     "data": {
      "text/plain": [
       "False"
      ]
     },
     "execution_count": 58,
     "metadata": {},
     "output_type": "execute_result"
    },
    {
     "data": {
      "text/plain": [
       "False"
      ]
     },
     "execution_count": 58,
     "metadata": {},
     "output_type": "execute_result"
    },
    {
     "data": {
      "text/plain": [
       "False"
      ]
     },
     "execution_count": 58,
     "metadata": {},
     "output_type": "execute_result"
    }
   ],
   "source": [
    "bool([])\n",
    "bool('')\n",
    "bool({})\n",
    "bool(0.0)\n",
    "bool(set())"
   ]
  },
  {
   "cell_type": "code",
   "execution_count": 59,
   "id": "a5834b3b-61dd-4e67-8627-bf1b0cff8acf",
   "metadata": {},
   "outputs": [],
   "source": [
    "def compute_fraction(sigma, tau):\n",
    "    numerator = int(sigma) * (10 ** len(tau) - 1) + int(tau)\n",
    "    denominator = (10 ** len(tau) - 1) * 10 ** len(sigma)\n",
    "    return numerator, denominator"
   ]
  },
  {
   "cell_type": "code",
   "execution_count": 60,
   "id": "cf554d2d-859b-4f0a-bbf2-8aea8b5a7864",
   "metadata": {},
   "outputs": [],
   "source": [
    "def gcd(p, q):\n",
    "    while q:\n",
    "        p, q = q, p % q\n",
    "    return p"
   ]
  },
  {
   "cell_type": "code",
   "execution_count": 61,
   "id": "0bea3737-ffc2-43f3-86c2-ef87e4728d97",
   "metadata": {},
   "outputs": [
    {
     "data": {
      "text/plain": [
       "(23882, 99900)"
      ]
     },
     "execution_count": 61,
     "metadata": {},
     "output_type": "execute_result"
    }
   ],
   "source": [
    "compute_fraction('23', '905')"
   ]
  },
  {
   "cell_type": "code",
   "execution_count": 62,
   "id": "a27012fb-3d25-4fbd-8ee9-785a0cce83bd",
   "metadata": {},
   "outputs": [],
   "source": [
    "def simplify_fraction(p, q):\n",
    "    the_gcd = gcd(p, q)\n",
    "    return p // the_gcd, q // the_gcd"
   ]
  },
  {
   "cell_type": "code",
   "execution_count": 63,
   "id": "52d19061-f6e7-45bb-8b2c-1b9a1492c826",
   "metadata": {},
   "outputs": [
    {
     "data": {
      "text/plain": [
       "(11941, 49950)"
      ]
     },
     "execution_count": 63,
     "metadata": {},
     "output_type": "execute_result"
    }
   ],
   "source": [
    "simplify_fraction(23882, 99900)"
   ]
  },
  {
   "cell_type": "code",
   "execution_count": 64,
   "id": "aaf69e23-3486-4881-9cab-6c2fb266dd8a",
   "metadata": {},
   "outputs": [
    {
     "ename": "TypeError",
     "evalue": "simplify_fraction() missing 1 required positional argument: 'q'",
     "output_type": "error",
     "traceback": [
      "\u001b[0;31m---------------------------------------------------------------------------\u001b[0m",
      "\u001b[0;31mTypeError\u001b[0m                                 Traceback (most recent call last)",
      "Cell \u001b[0;32mIn[64], line 1\u001b[0m\n\u001b[0;32m----> 1\u001b[0m \u001b[43msimplify_fraction\u001b[49m\u001b[43m(\u001b[49m\u001b[43mcompute_fraction\u001b[49m\u001b[43m(\u001b[49m\u001b[38;5;124;43m'\u001b[39;49m\u001b[38;5;124;43m23\u001b[39;49m\u001b[38;5;124;43m'\u001b[39;49m\u001b[43m,\u001b[49m\u001b[43m \u001b[49m\u001b[38;5;124;43m'\u001b[39;49m\u001b[38;5;124;43m905\u001b[39;49m\u001b[38;5;124;43m'\u001b[39;49m\u001b[43m)\u001b[49m\u001b[43m)\u001b[49m\n",
      "\u001b[0;31mTypeError\u001b[0m: simplify_fraction() missing 1 required positional argument: 'q'"
     ]
    }
   ],
   "source": [
    "simplify_fraction(compute_fraction('23', '905'))"
   ]
  },
  {
   "cell_type": "code",
   "execution_count": 68,
   "id": "dfaa1bce-24a7-415f-aeeb-4b3a094053fc",
   "metadata": {},
   "outputs": [
    {
     "name": "stdout",
     "output_type": "stream",
     "text": [
      "\n",
      "2\n",
      "2 3\n",
      "2 3 4 5 6\n"
     ]
    }
   ],
   "source": [
    "print()\n",
    "print(2)\n",
    "print(2, 3)\n",
    "print(2, 3, 4, 5, 6)"
   ]
  },
  {
   "cell_type": "code",
   "execution_count": 69,
   "id": "50da3bca-03f7-4941-970f-a307eefdce95",
   "metadata": {},
   "outputs": [],
   "source": [
    "def f(*x):\n",
    "    print(x)"
   ]
  },
  {
   "cell_type": "code",
   "execution_count": 70,
   "id": "78918298-146f-4fda-904f-8c109ed4d3dc",
   "metadata": {},
   "outputs": [
    {
     "name": "stdout",
     "output_type": "stream",
     "text": [
      "()\n"
     ]
    }
   ],
   "source": [
    "f()"
   ]
  },
  {
   "cell_type": "code",
   "execution_count": 71,
   "id": "681ad2b7-8298-413f-b30c-ea4cd1c011a8",
   "metadata": {},
   "outputs": [
    {
     "name": "stdout",
     "output_type": "stream",
     "text": [
      "(1,)\n"
     ]
    }
   ],
   "source": [
    "f(1)"
   ]
  },
  {
   "cell_type": "code",
   "execution_count": 72,
   "id": "56fb384c-e6d0-47bd-856b-5d6a34fc0b89",
   "metadata": {},
   "outputs": [
    {
     "name": "stdout",
     "output_type": "stream",
     "text": [
      "(1, 2, 3)\n"
     ]
    }
   ],
   "source": [
    "f(1, 2, 3)"
   ]
  },
  {
   "cell_type": "code",
   "execution_count": 73,
   "id": "4db5d12f-39a5-45c1-b8c9-e7b0073c8538",
   "metadata": {},
   "outputs": [],
   "source": [
    "def g(a, b):\n",
    "    print(a, b)"
   ]
  },
  {
   "cell_type": "code",
   "execution_count": 75,
   "id": "b06ed45c-3c8a-4845-9486-36ecc816c94d",
   "metadata": {},
   "outputs": [
    {
     "data": {
      "text/plain": [
       "(2, 3)"
      ]
     },
     "execution_count": 75,
     "metadata": {},
     "output_type": "execute_result"
    }
   ],
   "source": [
    "x = 2, 3\n",
    "x"
   ]
  },
  {
   "cell_type": "code",
   "execution_count": 76,
   "id": "fa181b86-0738-4089-b14d-75308c0a33c7",
   "metadata": {},
   "outputs": [
    {
     "ename": "TypeError",
     "evalue": "g() missing 1 required positional argument: 'b'",
     "output_type": "error",
     "traceback": [
      "\u001b[0;31m---------------------------------------------------------------------------\u001b[0m",
      "\u001b[0;31mTypeError\u001b[0m                                 Traceback (most recent call last)",
      "Cell \u001b[0;32mIn[76], line 1\u001b[0m\n\u001b[0;32m----> 1\u001b[0m \u001b[43mg\u001b[49m\u001b[43m(\u001b[49m\u001b[43mx\u001b[49m\u001b[43m)\u001b[49m\n",
      "\u001b[0;31mTypeError\u001b[0m: g() missing 1 required positional argument: 'b'"
     ]
    }
   ],
   "source": [
    "g(x)"
   ]
  },
  {
   "cell_type": "code",
   "execution_count": 77,
   "id": "a49c2699-1734-4ced-97c4-5fccad0ba3f7",
   "metadata": {},
   "outputs": [
    {
     "name": "stdout",
     "output_type": "stream",
     "text": [
      "2 3\n"
     ]
    }
   ],
   "source": [
    "g(*x)"
   ]
  },
  {
   "cell_type": "code",
   "execution_count": 78,
   "id": "b7b522a6-81f6-47a2-a4de-17f2acb4b8c9",
   "metadata": {},
   "outputs": [
    {
     "data": {
      "text/plain": [
       "(11941, 49950)"
      ]
     },
     "execution_count": 78,
     "metadata": {},
     "output_type": "execute_result"
    }
   ],
   "source": [
    "simplify_fraction(*compute_fraction('23', '905'))"
   ]
  },
  {
   "cell_type": "code",
   "execution_count": 79,
   "id": "b5228402-97f9-4fb4-83b3-9cb114a5e366",
   "metadata": {},
   "outputs": [],
   "source": [
    "def nicely_display(p, q):\n",
    "    print(f'{p}/{q}')"
   ]
  },
  {
   "cell_type": "code",
   "execution_count": 80,
   "id": "97dce104-0695-43f8-946e-178b1978ed8e",
   "metadata": {},
   "outputs": [
    {
     "ename": "TypeError",
     "evalue": "nicely_display() missing 1 required positional argument: 'q'",
     "output_type": "error",
     "traceback": [
      "\u001b[0;31m---------------------------------------------------------------------------\u001b[0m",
      "\u001b[0;31mTypeError\u001b[0m                                 Traceback (most recent call last)",
      "Cell \u001b[0;32mIn[80], line 1\u001b[0m\n\u001b[0;32m----> 1\u001b[0m \u001b[43mnicely_display\u001b[49m\u001b[43m(\u001b[49m\u001b[43msimplify_fraction\u001b[49m\u001b[43m(\u001b[49m\u001b[38;5;241;43m*\u001b[39;49m\u001b[43mcompute_fraction\u001b[49m\u001b[43m(\u001b[49m\u001b[38;5;124;43m'\u001b[39;49m\u001b[38;5;124;43m23\u001b[39;49m\u001b[38;5;124;43m'\u001b[39;49m\u001b[43m,\u001b[49m\u001b[43m \u001b[49m\u001b[38;5;124;43m'\u001b[39;49m\u001b[38;5;124;43m905\u001b[39;49m\u001b[38;5;124;43m'\u001b[39;49m\u001b[43m)\u001b[49m\u001b[43m)\u001b[49m\u001b[43m)\u001b[49m\n",
      "\u001b[0;31mTypeError\u001b[0m: nicely_display() missing 1 required positional argument: 'q'"
     ]
    }
   ],
   "source": [
    "nicely_display(simplify_fraction(*compute_fraction('23', '905')))"
   ]
  },
  {
   "cell_type": "code",
   "execution_count": 81,
   "id": "c47fb07f-8f15-4fe3-9f94-e890e1e1a1b5",
   "metadata": {},
   "outputs": [
    {
     "name": "stdout",
     "output_type": "stream",
     "text": [
      "11941/49950\n"
     ]
    }
   ],
   "source": [
    "nicely_display(*simplify_fraction(*compute_fraction('23', '905')))"
   ]
  },
  {
   "cell_type": "code",
   "execution_count": 82,
   "id": "394541b2-4760-4b90-bc60-717f20e65515",
   "metadata": {},
   "outputs": [],
   "source": [
    "def h(*x):\n",
    "    return 2 * x"
   ]
  },
  {
   "cell_type": "code",
   "execution_count": 83,
   "id": "364e9d31-5666-4ea5-9511-db7c6b430f14",
   "metadata": {},
   "outputs": [
    {
     "data": {
      "text/plain": [
       "()"
      ]
     },
     "execution_count": 83,
     "metadata": {},
     "output_type": "execute_result"
    }
   ],
   "source": [
    "h()"
   ]
  },
  {
   "cell_type": "code",
   "execution_count": 84,
   "id": "655c29e3-0c7f-4b6f-80dc-31c902130532",
   "metadata": {},
   "outputs": [
    {
     "data": {
      "text/plain": [
       "(0, 0)"
      ]
     },
     "execution_count": 84,
     "metadata": {},
     "output_type": "execute_result"
    }
   ],
   "source": [
    "h(0)"
   ]
  },
  {
   "cell_type": "code",
   "execution_count": 85,
   "id": "e372cb28-ecac-43ff-b9df-6b302c7a670b",
   "metadata": {},
   "outputs": [
    {
     "data": {
      "text/plain": [
       "((0, 0), (0, 0))"
      ]
     },
     "execution_count": 85,
     "metadata": {},
     "output_type": "execute_result"
    }
   ],
   "source": [
    "h(h(0))"
   ]
  },
  {
   "cell_type": "code",
   "execution_count": 86,
   "id": "a02c230f-666f-4978-a730-dfc3b6150946",
   "metadata": {},
   "outputs": [
    {
     "data": {
      "text/plain": [
       "(0, 0, 0, 0)"
      ]
     },
     "execution_count": 86,
     "metadata": {},
     "output_type": "execute_result"
    }
   ],
   "source": [
    "h(*h(0))"
   ]
  },
  {
   "cell_type": "code",
   "execution_count": 87,
   "id": "73a42731-f1de-4250-a98a-66dc5dbf6156",
   "metadata": {},
   "outputs": [
    {
     "data": {
      "text/plain": [
       "((0, 0, 0, 0), (0, 0, 0, 0))"
      ]
     },
     "execution_count": 87,
     "metadata": {},
     "output_type": "execute_result"
    }
   ],
   "source": [
    "h(h(*h(0)))"
   ]
  },
  {
   "cell_type": "code",
   "execution_count": 88,
   "id": "01e53e7a-2460-46b1-a15b-9581f74afd62",
   "metadata": {},
   "outputs": [
    {
     "data": {
      "text/plain": [
       "(0, 0, 0, 0, 0, 0, 0, 0)"
      ]
     },
     "execution_count": 88,
     "metadata": {},
     "output_type": "execute_result"
    }
   ],
   "source": [
    "h(*h(*h(0)))"
   ]
  },
  {
   "cell_type": "code",
   "execution_count": 89,
   "id": "8428912a-ca99-4f16-92be-72d2d6550466",
   "metadata": {},
   "outputs": [
    {
     "data": {
      "text/plain": [
       "((0, 0), (0, 0), (0, 0), (0, 0))"
      ]
     },
     "execution_count": 89,
     "metadata": {},
     "output_type": "execute_result"
    }
   ],
   "source": [
    "h(*h(h(0)))"
   ]
  },
  {
   "cell_type": "code",
   "execution_count": 90,
   "id": "e83c07f8-bcd5-4391-b5ea-80c0011286bc",
   "metadata": {},
   "outputs": [
    {
     "data": {
      "text/plain": [
       "'__main__'"
      ]
     },
     "execution_count": 90,
     "metadata": {},
     "output_type": "execute_result"
    }
   ],
   "source": [
    "__name__"
   ]
  },
  {
   "cell_type": "code",
   "execution_count": 91,
   "id": "aaac54a0-06f4-4166-80c1-4878d87118d7",
   "metadata": {},
   "outputs": [
    {
     "data": {
      "text/plain": [
       "'/Users/ericmartin/Documents/COMP9021/Lectures/Lecture 4'"
      ]
     },
     "execution_count": 91,
     "metadata": {},
     "output_type": "execute_result"
    }
   ],
   "source": [
    "pwd"
   ]
  },
  {
   "cell_type": "code",
   "execution_count": 92,
   "id": "721ef3bb-85e4-4c0d-a938-ac963a35a872",
   "metadata": {},
   "outputs": [
    {
     "name": "stdout",
     "output_type": "stream",
     "text": [
      "aaa\n"
     ]
    }
   ],
   "source": [
    "import aaa"
   ]
  },
  {
   "cell_type": "code",
   "execution_count": 93,
   "id": "3db0e782-9442-4cd8-9702-8e09b91309d3",
   "metadata": {},
   "outputs": [
    {
     "ename": "ImportError",
     "evalue": "cannot import name 'a_great_function' from 'aaa' (/Users/ericmartin/Documents/COMP9021/Lectures/Lecture 4/aaa.py)",
     "output_type": "error",
     "traceback": [
      "\u001b[0;31m---------------------------------------------------------------------------\u001b[0m",
      "\u001b[0;31mImportError\u001b[0m                               Traceback (most recent call last)",
      "Cell \u001b[0;32mIn[93], line 1\u001b[0m\n\u001b[0;32m----> 1\u001b[0m \u001b[38;5;28;01mfrom\u001b[39;00m \u001b[38;5;21;01maaa\u001b[39;00m \u001b[38;5;28;01mimport\u001b[39;00m a_great_function\n",
      "\u001b[0;31mImportError\u001b[0m: cannot import name 'a_great_function' from 'aaa' (/Users/ericmartin/Documents/COMP9021/Lectures/Lecture 4/aaa.py)"
     ]
    }
   ],
   "source": [
    "from aaa import a_great_function"
   ]
  },
  {
   "cell_type": "code",
   "execution_count": 94,
   "id": "b16c36fb-b866-4f4d-a5db-3985b81670ce",
   "metadata": {},
   "outputs": [
    {
     "data": {
      "text/plain": [
       "'/Users/ericmartin/Documents/COMP9021/Lectures/Lecture 4'"
      ]
     },
     "execution_count": 94,
     "metadata": {},
     "output_type": "execute_result"
    }
   ],
   "source": [
    "pwd"
   ]
  },
  {
   "cell_type": "code",
   "execution_count": null,
   "id": "cfae63f5-b2c6-4e69-931b-333795783b44",
   "metadata": {},
   "outputs": [],
   "source": []
  }
 ],
 "metadata": {
  "kernelspec": {
   "display_name": "Python 3 (ipykernel)",
   "language": "python",
   "name": "python3"
  },
  "language_info": {
   "codemirror_mode": {
    "name": "ipython",
    "version": 3
   },
   "file_extension": ".py",
   "mimetype": "text/x-python",
   "name": "python",
   "nbconvert_exporter": "python",
   "pygments_lexer": "ipython3",
   "version": "3.12.6"
  }
 },
 "nbformat": 4,
 "nbformat_minor": 5
}
