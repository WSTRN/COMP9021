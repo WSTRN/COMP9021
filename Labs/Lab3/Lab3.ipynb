{
    "metadata": {
        "kernelspec": {
            "name": "python3",
            "display_name": "Python 3 (ipykernel)",
            "language": "python"
        }
    },
    "nbformat": 4,
    "nbformat_minor": 5,
    "cells": [
        {
            "cell_type": "code",
            "execution_count": 931,
            "metadata": {},
            "outputs": [
                {
                    "name": "stdout",
                    "output_type": "stream",
                    "text": "The run_and_test extension is already loaded. To reload it, use:\n  %reload_ext run_and_test\n"
                }
            ],
            "source": [
                "load_ext run_and_test"
            ]
        },
        {
            "attachments": {},
            "cell_type": "markdown",
            "metadata": {},
            "source": [
                "# Exercise 1"
            ]
        },
        {
            "attachments": {},
            "cell_type": "markdown",
            "metadata": {},
            "source": [
                "## Templates"
            ]
        },
        {
            "cell_type": "code",
            "execution_count": 932,
            "metadata": {},
            "outputs": [
                {
                    "data": {
                        "text/plain": "\u001b[0;31m# Assume that the arguments m and n are integers at least equal to 0.\u001b[0m\u001b[0;34m\u001b[0m\n\u001b[0;34m\u001b[0m\u001b[0;34m\u001b[0m\n\u001b[0;34m\u001b[0m\u001b[0;32mdef\u001b[0m \u001b[0mf1\u001b[0m\u001b[0;34m(\u001b[0m\u001b[0mm\u001b[0m\u001b[0;34m,\u001b[0m \u001b[0mn\u001b[0m\u001b[0;34m)\u001b[0m\u001b[0;34m:\u001b[0m\u001b[0;34m\u001b[0m\n\u001b[0;34m\u001b[0m     \u001b[0;32mreturn\u001b[0m \u001b[0;34m''\u001b[0m\u001b[0;34m\u001b[0m\n\u001b[0;34m\u001b[0m    \u001b[0;31m# REPLACE THE RETURN STATEMENT ABOVE WITH YOUR CODE\u001b[0m\u001b[0;34m\u001b[0m\u001b[0;34m\u001b[0m\u001b[0m\n"
                    },
                    "execution_count": 932,
                    "metadata": {},
                    "output_type": "execute_result"
                }
            ],
            "source": [
                "%pycat exercise_3_1_template.py"
            ]
        },
        {
            "cell_type": "code",
            "execution_count": 933,
            "metadata": {},
            "outputs": [
                {
                    "name": "stdout",
                    "output_type": "stream",
                    "text": "Overwriting exercise_3_1.py\n"
                }
            ],
            "source": [
                "%%writefile exercise_3_1.py\n",
                "# Assume that the arguments m and n are integers at least equal to 0.\n",
                "\n",
                "def f1(m, n):\n",
                "     L1 = ['_' for _ in range(n)]\n",
                "     S1 = '|'.join(L1)\n",
                "     L2 = [S1 for _ in range(m)]\n",
                "     return ' * '.join(L2)\n",
                "    # REPLACE THE RETURN STATEMENT ABOVE WITH YOUR CODE"
            ]
        },
        {
            "attachments": {},
            "cell_type": "markdown",
            "metadata": {},
            "source": [
                "## Tests"
            ]
        },
        {
            "cell_type": "code",
            "execution_count": 934,
            "metadata": {},
            "outputs": [
                {
                    "name": "stdout",
                    "output_type": "stream",
                    "text": "\u001b[1mPASSED\u001b[0m\n\n\u001b[30m  \n\u001b[0m"
                }
            ],
            "source": [
                "%%run_and_test python3 -c \"from exercise_3_1 import f1; print(f1(0, 0))\"\n",
                "\n",
                "'\\n'"
            ]
        },
        {
            "cell_type": "code",
            "execution_count": 935,
            "metadata": {},
            "outputs": [
                {
                    "name": "stdout",
                    "output_type": "stream",
                    "text": "\u001b[1mPASSED\u001b[0m\n\n\u001b[30m  \n\u001b[0m"
                }
            ],
            "source": [
                "%%run_and_test python3 -c \"from exercise_3_1 import f1; print(f1(0, 1))\"\n",
                "\n",
                "'\\n'"
            ]
        },
        {
            "cell_type": "code",
            "execution_count": 936,
            "metadata": {},
            "outputs": [
                {
                    "name": "stdout",
                    "output_type": "stream",
                    "text": "\u001b[1mPASSED\u001b[0m\n\n\u001b[30m  \n\u001b[0m"
                }
            ],
            "source": [
                "%%run_and_test python3 -c \"from exercise_3_1 import f1; print(f1(1, 0))\"\n",
                "\n",
                "'\\n'"
            ]
        },
        {
            "cell_type": "code",
            "execution_count": 937,
            "metadata": {},
            "outputs": [
                {
                    "name": "stdout",
                    "output_type": "stream",
                    "text": "\u001b[1mPASSED\u001b[0m\n\n\u001b[30m  _\n\u001b[0m"
                }
            ],
            "source": [
                "%%run_and_test python3 -c \"from exercise_3_1 import f1; print(f1(1, 1))\"\n",
                "\n",
                "'_\\n'"
            ]
        },
        {
            "cell_type": "code",
            "execution_count": 938,
            "metadata": {},
            "outputs": [
                {
                    "name": "stdout",
                    "output_type": "stream",
                    "text": "\u001b[1mPASSED\u001b[0m\n\n\u001b[30m  _|_ * _|_\n\u001b[0m"
                }
            ],
            "source": [
                "%%run_and_test python3 -c \"from exercise_3_1 import f1; print(f1(2, 2))\"\n",
                "\n",
                "'_|_ * _|_\\n'"
            ]
        },
        {
            "cell_type": "code",
            "execution_count": 939,
            "metadata": {},
            "outputs": [
                {
                    "name": "stdout",
                    "output_type": "stream",
                    "text": "\u001b[1mPASSED\u001b[0m\n\n\u001b[30m  _|_ * _|_ * _|_\n\u001b[0m"
                }
            ],
            "source": [
                "%%run_and_test python3 -c \"from exercise_3_1 import f1; print(f1(3, 2))\"\n",
                "\n",
                "'_|_ * _|_ * _|_\\n'"
            ]
        },
        {
            "cell_type": "code",
            "execution_count": 940,
            "metadata": {},
            "outputs": [
                {
                    "name": "stdout",
                    "output_type": "stream",
                    "text": "\u001b[1mPASSED\u001b[0m\n\n\u001b[30m  _|_|_ * _|_|_\n\u001b[0m"
                }
            ],
            "source": [
                "%%run_and_test python3 -c \"from exercise_3_1 import f1; print(f1(2, 3))\"\n",
                "\n",
                "'_|_|_ * _|_|_\\n'"
            ]
        },
        {
            "cell_type": "code",
            "execution_count": 941,
            "metadata": {},
            "outputs": [
                {
                    "name": "stdout",
                    "output_type": "stream",
                    "text": "\u001b[1mPASSED\u001b[0m\n\n\u001b[30m  _|_|_|_ * _|_|_|_ * _|_|_|_ * _|_|_|_ * _|_|_|_ * _|_|_|_ * _|_|_|_\n\u001b[0m"
                }
            ],
            "source": [
                "%%run_and_test python3 -c \"from exercise_3_1 import f1; print(f1(7, 4))\"\n",
                "\n",
                "'_|_|_|_ * _|_|_|_ * _|_|_|_ * _|_|_|_ * _|_|_|_ * _|_|_|_ * _|_|_|_\\n'"
            ]
        },
        {
            "cell_type": "code",
            "execution_count": 942,
            "metadata": {},
            "outputs": [
                {
                    "name": "stdout",
                    "output_type": "stream",
                    "text": "\u001b[1mPASSED\u001b[0m\n\n\u001b[30m  _|_|_|_|_|_|_ * _|_|_|_|_|_|_ * _|_|_|_|_|_|_ * _|_|_|_|_|_|_\n\u001b[0m"
                }
            ],
            "source": [
                "%%run_and_test python3 -c \"from exercise_3_1 import f1; print(f1(4, 7))\"\n",
                "\n",
                "'_|_|_|_|_|_|_ * _|_|_|_|_|_|_ * _|_|_|_|_|_|_ * _|_|_|_|_|_|_\\n'"
            ]
        },
        {
            "attachments": {},
            "cell_type": "markdown",
            "metadata": {},
            "source": [
                "# Exercise 2"
            ]
        },
        {
            "attachments": {},
            "cell_type": "markdown",
            "metadata": {},
            "source": [
                "## Templates"
            ]
        },
        {
            "cell_type": "code",
            "execution_count": 943,
            "metadata": {},
            "outputs": [
                {
                    "data": {
                        "text/plain": "\u001b[0;31m# Assume that the argument n is an integer at least equal to 0.\u001b[0m\u001b[0;34m\u001b[0m\n\u001b[0;34m\u001b[0m\u001b[0;31m#\u001b[0m\u001b[0;34m\u001b[0m\n\u001b[0;34m\u001b[0m\u001b[0;31m# Even digits are white, odd digits are black.\u001b[0m\u001b[0;34m\u001b[0m\n\u001b[0;34m\u001b[0m\u001b[0;31m#\u001b[0m\u001b[0;34m\u001b[0m\n\u001b[0;34m\u001b[0m\u001b[0;31m# The output is printed out, not returned.\u001b[0m\u001b[0;34m\u001b[0m\n\u001b[0;34m\u001b[0m\u001b[0;34m\u001b[0m\n\u001b[0;34m\u001b[0m\u001b[0;32mdef\u001b[0m \u001b[0mf2\u001b[0m\u001b[0;34m(\u001b[0m\u001b[0mn\u001b[0m\u001b[0;34m)\u001b[0m\u001b[0;34m:\u001b[0m\u001b[0;34m\u001b[0m\n\u001b[0;34m\u001b[0m    \u001b[0;32mpass\u001b[0m\u001b[0;34m\u001b[0m\n\u001b[0;34m\u001b[0m    \u001b[0;31m# REPLACE THE PASS STATEMENT ABOVE WITH YOUR CODE\u001b[0m\u001b[0;34m\u001b[0m\u001b[0;34m\u001b[0m\u001b[0m\n"
                    },
                    "execution_count": 943,
                    "metadata": {},
                    "output_type": "execute_result"
                }
            ],
            "source": [
                "%pycat exercise_3_2_template.py"
            ]
        },
        {
            "cell_type": "code",
            "execution_count": 944,
            "metadata": {},
            "outputs": [
                {
                    "name": "stdout",
                    "output_type": "stream",
                    "text": "Overwriting exercise_3_2.py\n"
                }
            ],
            "source": [
                "%%writefile exercise_3_2.py\n",
                "# Assume that the argument n is an integer at least equal to 0.\n",
                "#\n",
                "# Even digits are white, odd digits are black.\n",
                "#\n",
                "# The output is printed out, not returned.\n",
                "\n",
                "def f2(n):\n",
                "    d = {0: '\\u2b1c', 1: '\\u2b1b'}\n",
                "    L = [d[int(c) % 2] for c in str(n)]\n",
                "    print(''.join(L))\n",
                "    return ''\n",
                "    # REPLACE THE RETURN STATEMENT ABOVE WITH YOUR CODE"
            ]
        },
        {
            "attachments": {},
            "cell_type": "markdown",
            "metadata": {},
            "source": [
                "## Tests"
            ]
        },
        {
            "cell_type": "code",
            "execution_count": 945,
            "metadata": {},
            "outputs": [
                {
                    "name": "stdout",
                    "output_type": "stream",
                    "text": "\u001b[1mPASSED\u001b[0m\n\n\u001b[30m  ⬜\n\u001b[0m"
                }
            ],
            "source": [
                "%%run_and_test python3 -c \"from exercise_3_2 import f2; f2(0)\"\n",
                "\n",
                "'⬜\\n'"
            ]
        },
        {
            "cell_type": "code",
            "execution_count": 946,
            "metadata": {},
            "outputs": [
                {
                    "name": "stdout",
                    "output_type": "stream",
                    "text": "\u001b[1mPASSED\u001b[0m\n\n\u001b[30m  ⬛\n\u001b[0m"
                }
            ],
            "source": [
                "%%run_and_test python3 -c \"from exercise_3_2 import f2; f2(1)\"\n",
                "\n",
                "'⬛\\n'"
            ]
        },
        {
            "cell_type": "code",
            "execution_count": 947,
            "metadata": {},
            "outputs": [
                {
                    "name": "stdout",
                    "output_type": "stream",
                    "text": "\u001b[1mPASSED\u001b[0m\n\n\u001b[30m  ⬛⬜⬛⬜\n\u001b[0m"
                }
            ],
            "source": [
                "%%run_and_test python3 -c \"from exercise_3_2 import f2; f2(1234)\"\n",
                "\n",
                "'⬛⬜⬛⬜\\n'"
            ]
        },
        {
            "cell_type": "code",
            "execution_count": 948,
            "metadata": {},
            "outputs": [
                {
                    "name": "stdout",
                    "output_type": "stream",
                    "text": "\u001b[1mPASSED\u001b[0m\n\n\u001b[30m  ⬜⬛⬜⬛\n\u001b[0m"
                }
            ],
            "source": [
                "%%run_and_test python3 -c \"from exercise_3_2 import f2; f2(4321)\"\n",
                "\n",
                "'⬜⬛⬜⬛\\n'"
            ]
        },
        {
            "cell_type": "code",
            "execution_count": 949,
            "metadata": {},
            "outputs": [
                {
                    "name": "stdout",
                    "output_type": "stream",
                    "text": "\u001b[1mPASSED\u001b[0m\n\n\u001b[30m  ⬛⬜⬜⬛⬛⬜⬜⬜\n\u001b[0m"
                }
            ],
            "source": [
                "%%run_and_test python3 -c \"from exercise_3_2 import f2; f2(78859860)\"\n",
                "\n",
                "'⬛⬜⬜⬛⬛⬜⬜⬜\\n'"
            ]
        },
        {
            "cell_type": "code",
            "execution_count": 950,
            "metadata": {},
            "outputs": [
                {
                    "name": "stdout",
                    "output_type": "stream",
                    "text": "\u001b[1mPASSED\u001b[0m\n\n\u001b[30m  ⬜⬜⬛⬜⬜⬜⬛⬜⬜⬜⬛⬛⬜⬛⬛⬜⬛⬜⬜⬛\n\u001b[0m"
                }
            ],
            "source": [
                "%%run_and_test python3 -c \"from exercise_3_2 import f2; f2(60182278221381523805)\"\n",
                "\n",
                "'⬜⬜⬛⬜⬜⬜⬛⬜⬜⬜⬛⬛⬜⬛⬛⬜⬛⬜⬜⬛\\n'"
            ]
        },
        {
            "attachments": {},
            "cell_type": "markdown",
            "metadata": {},
            "source": [
                "# Exercise 3"
            ]
        },
        {
            "attachments": {},
            "cell_type": "markdown",
            "metadata": {},
            "source": [
                "## Templates"
            ]
        },
        {
            "cell_type": "code",
            "execution_count": 951,
            "metadata": {},
            "outputs": [
                {
                    "data": {
                        "text/plain": "\u001b[0;31m# Assume that the argument n is an integer at least equal to 0.\u001b[0m\u001b[0;34m\u001b[0m\n\u001b[0;34m\u001b[0m\u001b[0;31m#\u001b[0m\u001b[0;34m\u001b[0m\n\u001b[0;34m\u001b[0m\u001b[0;31m# Bases range from the smallest possible, at least equal to 2, to 10.\u001b[0m\u001b[0;34m\u001b[0m\n\u001b[0;34m\u001b[0m\u001b[0;31m#\u001b[0m\u001b[0;34m\u001b[0m\n\u001b[0;34m\u001b[0m\u001b[0;31m# The output is printed out, not returned.\u001b[0m\u001b[0;34m\u001b[0m\n\u001b[0;34m\u001b[0m\u001b[0;34m\u001b[0m\n\u001b[0;34m\u001b[0m\u001b[0;32mdef\u001b[0m \u001b[0mf3\u001b[0m\u001b[0;34m(\u001b[0m\u001b[0mn\u001b[0m\u001b[0;34m)\u001b[0m\u001b[0;34m:\u001b[0m\u001b[0;34m\u001b[0m\n\u001b[0;34m\u001b[0m    \u001b[0;32mpass\u001b[0m\u001b[0;34m\u001b[0m\n\u001b[0;34m\u001b[0m    \u001b[0;31m# REPLACE THE PASS STATEMENT ABOVE WITH YOUR CODE\u001b[0m\u001b[0;34m\u001b[0m\u001b[0;34m\u001b[0m\u001b[0m\n"
                    },
                    "execution_count": 951,
                    "metadata": {},
                    "output_type": "execute_result"
                }
            ],
            "source": [
                "%pycat exercise_3_3_template.py"
            ]
        },
        {
            "cell_type": "code",
            "execution_count": 952,
            "metadata": {},
            "outputs": [
                {
                    "name": "stdout",
                    "output_type": "stream",
                    "text": "Overwriting exercise_3_3.py\n"
                }
            ],
            "source": [
                "%%writefile exercise_3_3.py\n",
                "# Assume that the argument n is an integer at least equal to 0.\n",
                "#\n",
                "# Bases range from the smallest possible, at least equal to 2, to 10.\n",
                "#\n",
                "# The output is printed out, not returned.\n",
                "\n",
                "def f3(n):\n",
                "    n_as_string = str(n)\n",
                "    min_base = max(2, max({int(d) for d in n_as_string}) + 1)\n",
                "    for b in range(min_base, 11):\n",
                "        print(f'{n} is {int(n_as_string, b)} in base {b}')\n",
                "    pass\n",
                "    # REPLACE THE PASS STATEMENT ABOVE WITH YOUR CODE"
            ]
        },
        {
            "attachments": {},
            "cell_type": "markdown",
            "metadata": {},
            "source": [
                "## Tests"
            ]
        },
        {
            "cell_type": "code",
            "execution_count": 953,
            "metadata": {},
            "outputs": [
                {
                    "name": "stdout",
                    "output_type": "stream",
                    "text": "\u001b[1mPASSED\u001b[0m\n\n\u001b[30m  0 is 0 in base 2\n\u001b[0m\u001b[30m  0 is 0 in base 3\n\u001b[0m\u001b[30m  0 is 0 in base 4\n\u001b[0m\u001b[30m  0 is 0 in base 5\n\u001b[0m\u001b[30m  0 is 0 in base 6\n\u001b[0m\u001b[30m  0 is 0 in base 7\n\u001b[0m\u001b[30m  0 is 0 in base 8\n\u001b[0m\u001b[30m  0 is 0 in base 9\n\u001b[0m\u001b[30m  0 is 0 in base 10\n\u001b[0m"
                }
            ],
            "source": [
                "%%run_and_test python3 -c \"from exercise_3_3 import f3; f3(0)\"\n",
                "\n",
                "'''\n",
                "0 is 0 in base 2\\n\n",
                "0 is 0 in base 3\\n\n",
                "0 is 0 in base 4\\n\n",
                "0 is 0 in base 5\\n\n",
                "0 is 0 in base 6\\n\n",
                "0 is 0 in base 7\\n\n",
                "0 is 0 in base 8\\n\n",
                "0 is 0 in base 9\\n\n",
                "0 is 0 in base 10\\n\n",
                "'''"
            ]
        },
        {
            "cell_type": "code",
            "execution_count": 954,
            "metadata": {},
            "outputs": [
                {
                    "name": "stdout",
                    "output_type": "stream",
                    "text": "\u001b[1mPASSED\u001b[0m\n\n\u001b[30m  7 is 7 in base 8\n\u001b[0m\u001b[30m  7 is 7 in base 9\n\u001b[0m\u001b[30m  7 is 7 in base 10\n\u001b[0m"
                }
            ],
            "source": [
                "%%run_and_test python3 -c \"from exercise_3_3 import f3; f3(7)\"\n",
                "\n",
                "'''\n",
                "7 is 7 in base 8\\n\n",
                "7 is 7 in base 9\\n\n",
                "7 is 7 in base 10\\n\n",
                "'''"
            ]
        },
        {
            "cell_type": "code",
            "execution_count": 955,
            "metadata": {},
            "outputs": [
                {
                    "name": "stdout",
                    "output_type": "stream",
                    "text": "\u001b[1mPASSED\u001b[0m\n\n\u001b[30m  1298 is 1298 in base 10\n\u001b[0m"
                }
            ],
            "source": [
                "%%run_and_test python3 -c \"from exercise_3_3 import f3; f3(1298)\"\n",
                "\n",
                "'1298 is 1298 in base 10\\n'"
            ]
        },
        {
            "cell_type": "code",
            "execution_count": 956,
            "metadata": {},
            "outputs": [
                {
                    "name": "stdout",
                    "output_type": "stream",
                    "text": "\u001b[1mPASSED\u001b[0m\n\n\u001b[30m  2143 is 298 in base 5\n\u001b[0m\u001b[30m  2143 is 495 in base 6\n\u001b[0m\u001b[30m  2143 is 766 in base 7\n\u001b[0m\u001b[30m  2143 is 1123 in base 8\n\u001b[0m\u001b[30m  2143 is 1578 in base 9\n\u001b[0m\u001b[30m  2143 is 2143 in base 10\n\u001b[0m"
                }
            ],
            "source": [
                "%%run_and_test python3 -c \"from exercise_3_3 import f3; f3(2143)\"\n",
                "\n",
                "'''\n",
                "2143 is 298 in base 5\\n\n",
                "2143 is 495 in base 6\\n\n",
                "2143 is 766 in base 7\\n\n",
                "2143 is 1123 in base 8\\n\n",
                "2143 is 1578 in base 9\\n\n",
                "2143 is 2143 in base 10\\n\n",
                "'''"
            ]
        },
        {
            "cell_type": "code",
            "execution_count": 957,
            "metadata": {},
            "outputs": [
                {
                    "name": "stdout",
                    "output_type": "stream",
                    "text": "\u001b[1mPASSED\u001b[0m\n\n\u001b[30m  37520763776565530 is 1113872387468120 in base 8\n\u001b[0m\u001b[30m  37520763776565530 is 7120008273869829 in base 9\n\u001b[0m\u001b[30m  37520763776565530 is 37520763776565530 in base 10\n\u001b[0m"
                }
            ],
            "source": [
                "%%run_and_test python3 -c \"from exercise_3_3 import f3; f3(37520763776565530)\"\n",
                "\n",
                "'''\n",
                "37520763776565530 is 1113872387468120 in base 8\\n\n",
                "37520763776565530 is 7120008273869829 in base 9\\n\n",
                "37520763776565530 is 37520763776565530 in base 10\\n\n",
                "'''"
            ]
        },
        {
            "attachments": {},
            "cell_type": "markdown",
            "metadata": {},
            "source": [
                "# Exercise 4"
            ]
        },
        {
            "attachments": {},
            "cell_type": "markdown",
            "metadata": {},
            "source": [
                "## Templates"
            ]
        },
        {
            "cell_type": "code",
            "execution_count": 958,
            "metadata": {},
            "outputs": [
                {
                    "data": {
                        "text/plain": "\u001b[0;31m# Assume that the argument n is an integer at least equal to 0\u001b[0m\u001b[0;34m\u001b[0m\n\u001b[0;34m\u001b[0m\u001b[0;31m# and the argument base is an integer between 2 and 9 included.\u001b[0m\u001b[0;34m\u001b[0m\n\u001b[0;34m\u001b[0m\u001b[0;34m\u001b[0m\n\u001b[0;34m\u001b[0m\u001b[0;32mdef\u001b[0m \u001b[0mf4\u001b[0m\u001b[0;34m(\u001b[0m\u001b[0mn\u001b[0m\u001b[0;34m,\u001b[0m \u001b[0mbase\u001b[0m\u001b[0;34m)\u001b[0m\u001b[0;34m:\u001b[0m\u001b[0;34m\u001b[0m\n\u001b[0;34m\u001b[0m    \u001b[0;32mreturn\u001b[0m \u001b[0;34m{\u001b[0m\u001b[0;34m}\u001b[0m\u001b[0;34m\u001b[0m\n\u001b[0;34m\u001b[0m    \u001b[0;31m# REPLACE THE RETURN STATEMENT ABOVE WITH YOUR CODE\u001b[0m\u001b[0;34m\u001b[0m\u001b[0;34m\u001b[0m\u001b[0m\n"
                    },
                    "execution_count": 958,
                    "metadata": {},
                    "output_type": "execute_result"
                }
            ],
            "source": [
                "%pycat exercise_3_4_template.py"
            ]
        },
        {
            "cell_type": "code",
            "execution_count": 959,
            "metadata": {},
            "outputs": [
                {
                    "name": "stdout",
                    "output_type": "stream",
                    "text": "Overwriting exercise_3_4.py\n"
                }
            ],
            "source": [
                "%%writefile exercise_3_4.py\n",
                "# Assume that the argument n is an integer at least equal to 0\n",
                "# and the argument base is an integer between 2 and 9 included.\n",
                "\n",
                "def f4(n, base):\n",
                "    D = {0: (0,)}\n",
                "    for m in range(1, n + 1):\n",
                "        digits = []\n",
                "        p = m\n",
                "        while p:\n",
                "            digits.append(p % base)\n",
                "            p //= base\n",
                "        D[m] = tuple(reversed(digits))\n",
                "    return D\n",
                "    # REPLACE THE RETURN STATEMENT ABOVE WITH YOUR CODE"
            ]
        },
        {
            "attachments": {},
            "cell_type": "markdown",
            "metadata": {},
            "source": [
                "## Tests"
            ]
        },
        {
            "cell_type": "code",
            "execution_count": 960,
            "metadata": {},
            "outputs": [
                {
                    "name": "stdout",
                    "output_type": "stream",
                    "text": "\u001b[1mPASSED\u001b[0m\n\n\u001b[30m  {0: (0,)}\n\u001b[0m"
                }
            ],
            "source": [
                "%%run_and_test python3 -c \"from exercise_3_4 import f4; print(f4(0, 3))\"\n",
                "\n",
                "'{0: (0,)}\\n'"
            ]
        },
        {
            "cell_type": "code",
            "execution_count": 961,
            "metadata": {},
            "outputs": [],
            "source": [
                "statements = 'from exercise_3_4 import f4; '\\\n",
                "             'D = f4(5, 2); '\\\n",
                "             'print({e: D[e] for e in sorted(D)})'"
            ]
        },
        {
            "cell_type": "code",
            "execution_count": 962,
            "metadata": {},
            "outputs": [
                {
                    "name": "stdout",
                    "output_type": "stream",
                    "text": "\u001b[1mPASSED\u001b[0m\n\n\u001b[30m  {0: (0,), 1: (1,), 2: (1, 0), 3: (1, 1), 4: (1, 0, 0), 5: (1, 0, 1)}\n\u001b[0m"
                }
            ],
            "source": [
                "%%run_and_test python3 -c \"$statements\"\n",
                "\n",
                "'{0: (0,), 1: (1,), 2: (1, 0), 3: (1, 1), 4: (1, 0, 0), 5: (1, 0, 1)}\\n'"
            ]
        },
        {
            "cell_type": "code",
            "execution_count": 963,
            "metadata": {},
            "outputs": [],
            "source": [
                "statements = 'from exercise_3_4 import f4; '\\\n",
                "             'D = f4(7, 3); '\\\n",
                "             'print({e: D[e] for e in sorted(D)})'"
            ]
        },
        {
            "cell_type": "code",
            "execution_count": 964,
            "metadata": {},
            "outputs": [
                {
                    "name": "stdout",
                    "output_type": "stream",
                    "text": "\u001b[1mPASSED\u001b[0m\n\n\u001b[30m  {0: (0,), 1: (1,), 2: (2,), 3: (1, 0), 4: (1, 1), 5: (1, 2), 6: (2, 0), 7: (2, 1)}\n\u001b[0m"
                }
            ],
            "source": [
                "%%run_and_test python3 -c \"$statements\"\n",
                "\n",
                "'{0: (0,), 1: (1,), 2: (2,), 3: (1, 0), 4: (1, 1), 5: (1, 2), 6: (2, 0), 7: (2, 1)}\\n'"
            ]
        },
        {
            "cell_type": "code",
            "execution_count": 965,
            "metadata": {},
            "outputs": [],
            "source": [
                "statements = 'from exercise_3_4 import f4; '\\\n",
                "             'D = f4(11, 5); '\\\n",
                "             'print({e: D[e] for e in sorted(D)})'"
            ]
        },
        {
            "cell_type": "code",
            "execution_count": 966,
            "metadata": {},
            "outputs": [
                {
                    "name": "stdout",
                    "output_type": "stream",
                    "text": "\u001b[1mPASSED\u001b[0m\n\n\u001b[30m  {0: (0,), 1: (1,), 2: (2,), 3: (3,), 4: (4,), 5: (1, 0), 6: (1, 1), 7: (1, 2), 8: (1, 3), 9: (1, 4), 10: (2, 0), 11: (2, 1)}\n\u001b[0m"
                }
            ],
            "source": [
                "%%run_and_test python3 -c \"$statements\"\n",
                "\n",
                "'{0: (0,), 1: (1,), 2: (2,), 3: (3,), 4: (4,), 5: (1, 0), '\n",
                "'6: (1, 1), 7: (1, 2), 8: (1, 3), 9: (1, 4), 10: (2, 0), 11: (2, 1)}\\n'"
            ]
        },
        {
            "cell_type": "code",
            "execution_count": 967,
            "metadata": {},
            "outputs": [],
            "source": [
                "statements = 'from exercise_3_4 import f4; '\\\n",
                "             'D = f4(22, 8); '\\\n",
                "             'print({e: D[e] for e in sorted(D)})'"
            ]
        },
        {
            "cell_type": "code",
            "execution_count": 968,
            "metadata": {},
            "outputs": [
                {
                    "name": "stdout",
                    "output_type": "stream",
                    "text": "\u001b[1mPASSED\u001b[0m\n\n\u001b[30m  {0: (0,), 1: (1,), 2: (2,), 3: (3,), 4: (4,), 5: (5,), 6: (6,), 7: (7,), 8: (1, 0), 9: (1, 1), 10: (1, 2), 11: (1, 3), 12: (1, 4), 13: (1, 5), 14: (1, 6), 15: (1, 7), 16: (2, 0), 17: (2, 1), 18: (2, 2), 19: (2, 3), 20: (2, 4), 21: (2, 5), 22: (2, 6)}\n\u001b[0m"
                }
            ],
            "source": [
                "%%run_and_test python3 -c \"$statements\"\n",
                "\n",
                "'{0: (0,), 1: (1,), 2: (2,), 3: (3,), 4: (4,), 5: (5,), 6: (6,), 7: (7,), 8: (1, 0), '\n",
                "'9: (1, 1), 10: (1, 2), 11: (1, 3), 12: (1, 4), 13: (1, 5), 14: (1, 6), 15: (1, 7), '\n",
                "'16: (2, 0), 17: (2, 1), 18: (2, 2), 19: (2, 3), 20: (2, 4), 21: (2, 5), 22: (2, 6)}\\n'"
            ]
        },
        {
            "attachments": {},
            "cell_type": "markdown",
            "metadata": {},
            "source": [
                "# Exercise 5"
            ]
        },
        {
            "attachments": {},
            "cell_type": "markdown",
            "metadata": {},
            "source": [
                "## Templates"
            ]
        },
        {
            "cell_type": "code",
            "execution_count": 969,
            "metadata": {},
            "outputs": [
                {
                    "data": {
                        "text/plain": "\u001b[0;31m# Assume that the argument integral_part is an integer at least equal to 0\u001b[0m\u001b[0;34m\u001b[0m\n\u001b[0;34m\u001b[0m\u001b[0;31m# and the argument fractional_part is an integer strictly greater than 0.\u001b[0m\u001b[0;34m\u001b[0m\n\u001b[0;34m\u001b[0m\u001b[0;31m#\u001b[0m\u001b[0;34m\u001b[0m\n\u001b[0;34m\u001b[0m\u001b[0;31m# The output is printed out, not returned.\u001b[0m\u001b[0;34m\u001b[0m\n\u001b[0;34m\u001b[0m\u001b[0;34m\u001b[0m\n\u001b[0;34m\u001b[0m\u001b[0;32mdef\u001b[0m \u001b[0mf5\u001b[0m\u001b[0;34m(\u001b[0m\u001b[0mintegral_part\u001b[0m\u001b[0;34m,\u001b[0m \u001b[0mfractional_part\u001b[0m\u001b[0;34m)\u001b[0m\u001b[0;34m:\u001b[0m\u001b[0;34m\u001b[0m\n\u001b[0;34m\u001b[0m    \u001b[0;32mpass\u001b[0m\u001b[0;34m\u001b[0m\n\u001b[0;34m\u001b[0m    \u001b[0;31m# REPLACE THE PASS STATEMENT ABOVE WITH YOUR CODE\u001b[0m\u001b[0;34m\u001b[0m\u001b[0;34m\u001b[0m\u001b[0m\n"
                    },
                    "execution_count": 969,
                    "metadata": {},
                    "output_type": "execute_result"
                }
            ],
            "source": [
                "%pycat exercise_3_5_template.py"
            ]
        },
        {
            "cell_type": "code",
            "execution_count": 970,
            "metadata": {},
            "outputs": [
                {
                    "name": "stdout",
                    "output_type": "stream",
                    "text": "Overwriting exercise_3_5.py\n"
                }
            ],
            "source": [
                "%%writefile exercise_3_5.py\n",
                "# Assume that the argument integral_part is an integer at least equal to 0\n",
                "# and the argument fractional_part is an integer strictly greater than 0.\n",
                "#\n",
                "# The output is printed out, not returned.\n",
                "\n",
                "def f5(integral_part, fractional_part):\n",
                "    precision = len(str(fractional_part))\n",
                "    a_float = float(str(integral_part) + '.' + str(fractional_part))\n",
                "    simple_precision = f'{a_float:.{precision}f}'\n",
                "    extended_simple_precision = simple_precision + '0' * precision\n",
                "    double_precision = f'{a_float:.{precision * 2}f}'\n",
                "    print('With', precision * 2, 'digits after the decimal point, ', end='')\n",
                "    if extended_simple_precision == double_precision:\n",
                "        if precision == 1:\n",
                "            trailing_zeros_text = 'zero,'\n",
                "        else:\n",
                "            trailing_zeros_text = 'zeroes,'\n",
                "        print(simple_precision, 'prints out with', precision, 'trailing', trailing_zeros_text, 'namely, as', extended_simple_precision)\n",
                "    else:\n",
                "        print(simple_precision, 'prints out as', double_precision)\n",
                "    # REPLACE THE PASS STATEMENT ABOVE WITH YOUR CODE"
            ]
        },
        {
            "attachments": {},
            "cell_type": "markdown",
            "metadata": {},
            "source": [
                "## Tests"
            ]
        },
        {
            "cell_type": "code",
            "execution_count": 971,
            "metadata": {},
            "outputs": [
                {
                    "name": "stdout",
                    "output_type": "stream",
                    "text": "\u001b[1mPASSED\u001b[0m\n\n\u001b[30m  With 2 digits after the decimal point, 0.1 prints out with 1 trailing zero, namely, as 0.10\n\u001b[0m"
                }
            ],
            "source": [
                "%%run_and_test python3 -c \"from exercise_3_5 import f5; f5(0, 1)\"\n",
                "\n",
                "'With 2 digits after the decimal point, '\n",
                "'0.1 prints out with 1 trailing zero, '\n",
                "'namely, as 0.10\\n'"
            ]
        },
        {
            "cell_type": "code",
            "execution_count": 972,
            "metadata": {},
            "outputs": [
                {
                    "name": "stdout",
                    "output_type": "stream",
                    "text": "\u001b[1mPASSED\u001b[0m\n\n\u001b[30m  With 4 digits after the decimal point, 0.11 prints out with 2 trailing zeroes, namely, as 0.1100\n\u001b[0m"
                }
            ],
            "source": [
                "%%run_and_test python3 -c \"from exercise_3_5 import f5; f5(0, 11)\"\n",
                "\n",
                "'With 4 digits after the decimal point, '\n",
                "'0.11 prints out with 2 trailing zeroes, '\n",
                "'namely, as 0.1100\\n'"
            ]
        },
        {
            "cell_type": "code",
            "execution_count": 973,
            "metadata": {},
            "outputs": [
                {
                    "name": "stdout",
                    "output_type": "stream",
                    "text": "\u001b[1mPASSED\u001b[0m\n\n\u001b[30m  With 16 digits after the decimal point, 0.11111111 prints out with 8 trailing zeroes, namely, as 0.1111111100000000\n\u001b[0m"
                }
            ],
            "source": [
                "%%run_and_test python3 -c \"from exercise_3_5 import f5; f5(0, 11111111)\"\n",
                "\n",
                "'With 16 digits after the decimal point, '\n",
                "'0.11111111 prints out with 8 trailing zeroes, '\n",
                "'namely, as 0.1111111100000000\\n'"
            ]
        },
        {
            "cell_type": "code",
            "execution_count": 974,
            "metadata": {},
            "outputs": [
                {
                    "name": "stdout",
                    "output_type": "stream",
                    "text": "\u001b[1mPASSED\u001b[0m\n\n\u001b[30m  With 18 digits after the decimal point, 0.111111111 prints out as 0.111111110999999999\n\u001b[0m"
                }
            ],
            "source": [
                "%%run_and_test python3 -c \"from exercise_3_5 import f5; f5(0, 111111111)\"\n",
                "\n",
                "'With 18 digits after the decimal point, '\n",
                "'0.111111111 prints out as 0.111111110999999999\\n'"
            ]
        },
        {
            "cell_type": "code",
            "execution_count": 975,
            "metadata": {},
            "outputs": [
                {
                    "name": "stdout",
                    "output_type": "stream",
                    "text": "\u001b[1mPASSED\u001b[0m\n\n\u001b[30m  With 12 digits after the decimal point, 378.212408 prints out with 6 trailing zeroes, namely, as 378.212408000000\n\u001b[0m"
                }
            ],
            "source": [
                "%%run_and_test python3 -c \"from exercise_3_5 import f5; f5(378, 212408)\"\n",
                "\n",
                "'With 12 digits after the decimal point, '\n",
                "'378.212408 prints out with 6 trailing zeroes, '\n",
                "'namely, as 378.212408000000\\n'"
            ]
        },
        {
            "cell_type": "code",
            "execution_count": 976,
            "metadata": {},
            "outputs": [
                {
                    "name": "stdout",
                    "output_type": "stream",
                    "text": "\u001b[1mPASSED\u001b[0m\n\n\u001b[30m  With 14 digits after the decimal point, 378.2124089 prints out as 378.21240890000001\n\u001b[0m"
                }
            ],
            "source": [
                "%%run_and_test python3 -c \"from exercise_3_5 import f5; f5(378, 2124089)\"\n",
                "\n",
                "'With 14 digits after the decimal point, '\n",
                "'378.2124089 prints out as 378.21240890000001\\n'"
            ]
        },
        {
            "cell_type": "code",
            "execution_count": 977,
            "metadata": {},
            "outputs": [
                {
                    "name": "stdout",
                    "output_type": "stream",
                    "text": "\u001b[1mPASSED\u001b[0m\n\n\u001b[30m  With 8 digits after the decimal point, 123456789.4320 prints out with 4 trailing zeroes, namely, as 123456789.43200000\n\u001b[0m"
                }
            ],
            "source": [
                "%%run_and_test python3 -c \"from exercise_3_5 import f5; f5(123456789, 4320)\"\n",
                "\n",
                "'With 8 digits after the decimal point, '\n",
                "'123456789.4320 prints out with 4 trailing zeroes, '\n",
                "'namely, as 123456789.43200000\\n'"
            ]
        },
        {
            "cell_type": "code",
            "execution_count": 978,
            "metadata": {},
            "outputs": [
                {
                    "name": "stdout",
                    "output_type": "stream",
                    "text": "\u001b[1mPASSED\u001b[0m\n\n\u001b[30m  With 10 digits after the decimal point, 123456789.43201 prints out as 123456789.4320099950\n\u001b[0m"
                }
            ],
            "source": [
                "%%run_and_test python3 -c \"from exercise_3_5 import f5; f5(123456789, 43201)\"\n",
                "\n",
                "'With 10 digits after the decimal point, '\n",
                "'123456789.43201 prints out as 123456789.4320099950\\n'"
            ]
        },
        {
            "attachments": {},
            "cell_type": "markdown",
            "metadata": {},
            "source": [
                "# Exercise 6"
            ]
        },
        {
            "attachments": {},
            "cell_type": "markdown",
            "metadata": {},
            "source": [
                "## Templates"
            ]
        },
        {
            "cell_type": "code",
            "execution_count": 979,
            "metadata": {},
            "outputs": [],
            "source": [
                "%pycat exercise_3_6_template.py"
            ]
        },
        {
            "cell_type": "code",
            "execution_count": 980,
            "metadata": {},
            "outputs": [
                {
                    "data": {
                        "text/plain": "\u001b[0;31m# Assume that the argument L is a list of lists of integers\u001b[0m\u001b[0;34m\u001b[0m\n\u001b[0;34m\u001b[0m\u001b[0;31m# that are all of the same length, say a strictly positive\u001b[0m\u001b[0;34m\u001b[0m\n\u001b[0;34m\u001b[0m\u001b[0;31m# integer n, and that fields is a list that represents a\u001b[0m\u001b[0;34m\u001b[0m\n\u001b[0;34m\u001b[0m\u001b[0;31m# permutation of {1, ..., n}.\u001b[0m\u001b[0;34m\u001b[0m\n\u001b[0;34m\u001b[0m\u001b[0;31m#\u001b[0m\u001b[0;34m\u001b[0m\n\u001b[0;34m\u001b[0m\u001b[0;31m# L has to be sorted considering in a list L' of length n\u001b[0m\u001b[0;34m\u001b[0m\n\u001b[0;34m\u001b[0m\u001b[0;31m# - first the element of L' whose position is given by the\u001b[0m\u001b[0;34m\u001b[0m\n\u001b[0;34m\u001b[0m\u001b[0;31m#   first member of fields,\u001b[0m\u001b[0;34m\u001b[0m\n\u001b[0;34m\u001b[0m\u001b[0;31m# - if n \u003e= 2, then the element of L' whose position is given by the\u001b[0m\u001b[0;34m\u001b[0m\n\u001b[0;34m\u001b[0m\u001b[0;31m#   second member of fields,\u001b[0m\u001b[0;34m\u001b[0m\n\u001b[0;34m\u001b[0m\u001b[0;31m# - ...\u001b[0m\u001b[0;34m\u001b[0m\n\u001b[0;34m\u001b[0m\u001b[0;31m# - finally, the element of L' whose position is given by the\u001b[0m\u001b[0;34m\u001b[0m\n\u001b[0;34m\u001b[0m\u001b[0;31m#   last member of fields.\u001b[0m\u001b[0;34m\u001b[0m\n\u001b[0;34m\u001b[0m\u001b[0;34m\u001b[0m\n\u001b[0;34m\u001b[0m\u001b[0;32mdef\u001b[0m \u001b[0mf6\u001b[0m\u001b[0;34m(\u001b[0m\u001b[0mL\u001b[0m\u001b[0;34m,\u001b[0m \u001b[0mfields\u001b[0m\u001b[0;34m)\u001b[0m\u001b[0;34m:\u001b[0m\u001b[0;34m\u001b[0m\n\u001b[0;34m\u001b[0m    \u001b[0;32mreturn\u001b[0m \u001b[0;34m[\u001b[0m\u001b[0;34m]\u001b[0m\u001b[0;34m\u001b[0m\n\u001b[0;34m\u001b[0m    \u001b[0;31m# REPLACE THE RETURN STATEMENT ABOVE WITH YOUR CODE\u001b[0m\u001b[0;34m\u001b[0m\u001b[0;34m\u001b[0m\u001b[0m\n"
                    },
                    "execution_count": 980,
                    "metadata": {},
                    "output_type": "execute_result"
                },
                {
                    "name": "stdout",
                    "output_type": "stream",
                    "text": "Overwriting exercise_3_6.py\n"
                }
            ],
            "source": [
                "%%writefile exercise_3_6.py\n",
                "# Assume that the argument L is a list of lists of integers\n",
                "# that are all of the same length, say a strictly positive\n",
                "# integer n, and that fields is a list that represents a\n",
                "# permutation of {1, ..., n}.\n",
                "#\n",
                "# L has to be sorted considering in a list L' of length n\n",
                "# - first the element of L' whose position is given by the\n",
                "#   first member of fields,\n",
                "# - if n \u003e= 2, then the element of L' whose position is given by the\n",
                "#   second member of fields,\n",
                "# - ...\n",
                "# - finally, the element of L' whose position is given by the\n",
                "#   last member of fields.\n",
                "\n",
                "def f6(L, fields):\n",
                "    return sorted(L, key=lambda x: tuple(x[i - 1] for i in fields))\n",
                "    # REPLACE THE RETURN STATEMENT ABOVE WITH YOUR CODE"
            ]
        },
        {
            "attachments": {},
            "cell_type": "markdown",
            "metadata": {},
            "source": [
                "## Tests"
            ]
        },
        {
            "cell_type": "code",
            "execution_count": 981,
            "metadata": {},
            "outputs": [],
            "source": [
                "statements = 'from exercise_3_6 import f6; '\\\n",
                "             'L = [[3], [0], [1], [0], [8], [4], [0], [4], [7]]; '\\\n",
                "             'print(f6(L, [1]))'"
            ]
        },
        {
            "cell_type": "code",
            "execution_count": 982,
            "metadata": {},
            "outputs": [
                {
                    "name": "stdout",
                    "output_type": "stream",
                    "text": "\u001b[1mPASSED\u001b[0m\n\n\u001b[30m  [[0], [0], [0], [1], [3], [4], [4], [7], [8]]\n\u001b[0m"
                }
            ],
            "source": [
                "%%run_and_test python3 -c \"$statements\"\n",
                "\n",
                "'[[0], [0], [0], [1], [3], [4], [4], [7], [8]]\\n'"
            ]
        },
        {
            "cell_type": "code",
            "execution_count": 983,
            "metadata": {},
            "outputs": [],
            "source": [
                "statements = 'from exercise_3_6 import f6; '\\\n",
                "             'L = [[3, 3], [0, 0], [0, 2], [0, 1], [1, 1], [3, 2]]; '\\\n",
                "             'print(f6(L, [1, 2]))'"
            ]
        },
        {
            "cell_type": "code",
            "execution_count": 984,
            "metadata": {},
            "outputs": [
                {
                    "name": "stdout",
                    "output_type": "stream",
                    "text": "\u001b[1mPASSED\u001b[0m\n\n\u001b[30m  [[0, 0], [0, 1], [0, 2], [1, 1], [3, 2], [3, 3]]\n\u001b[0m"
                }
            ],
            "source": [
                "%%run_and_test python3 -c \"$statements\"\n",
                "\n",
                "'[[0, 0], [0, 1], [0, 2], [1, 1], [3, 2], [3, 3]]\\n'"
            ]
        },
        {
            "cell_type": "code",
            "execution_count": 985,
            "metadata": {},
            "outputs": [],
            "source": [
                "statements = 'from exercise_3_6 import f6; '\\\n",
                "             'L = [[3, 3], [0, 0], [0, 2], [0, 1], [1, 1], [3, 2]]; '\\\n",
                "             'print(f6(L, [2, 1]))'"
            ]
        },
        {
            "cell_type": "code",
            "execution_count": 986,
            "metadata": {},
            "outputs": [
                {
                    "name": "stdout",
                    "output_type": "stream",
                    "text": "\u001b[1mPASSED\u001b[0m\n\n\u001b[30m  [[0, 0], [0, 1], [1, 1], [0, 2], [3, 2], [3, 3]]\n\u001b[0m"
                }
            ],
            "source": [
                "%%run_and_test python3 -c \"$statements\"\n",
                "\n",
                "'[[0, 0], [0, 1], [1, 1], [0, 2], [3, 2], [3, 3]]\\n'"
            ]
        },
        {
            "cell_type": "code",
            "execution_count": 987,
            "metadata": {},
            "outputs": [],
            "source": [
                "statements = 'from exercise_3_6 import f6; '\\\n",
                "             'L = [[2, 3, 2], [2, 4, 3], [2, 2, 4], [3, 3, 4], '\\\n",
                "                  '[1, 3, 4], [1, 3, 2], [4, 1, 3], [3, 2, 2]]; '\\\n",
                "             'print(f6(L, [2, 3, 1]))'"
            ]
        },
        {
            "cell_type": "code",
            "execution_count": 988,
            "metadata": {},
            "outputs": [
                {
                    "name": "stdout",
                    "output_type": "stream",
                    "text": "\u001b[1mPASSED\u001b[0m\n\n\u001b[30m  [[4, 1, 3], [3, 2, 2], [2, 2, 4], [1, 3, 2], [2, 3, 2], [1, 3, 4], [3, 3, 4], [2, 4, 3]]\n\u001b[0m"
                }
            ],
            "source": [
                "%%run_and_test python3 -c \"$statements\"\n",
                "\n",
                "'[[4, 1, 3], [3, 2, 2], [2, 2, 4], [1, 3, 2], '\n",
                " '[2, 3, 2], [1, 3, 4], [3, 3, 4], [2, 4, 3]]\\n'"
            ]
        },
        {
            "cell_type": "code",
            "execution_count": 989,
            "metadata": {},
            "outputs": [],
            "source": [
                "statements = 'from exercise_3_6 import f6; '\\\n",
                "             'L = [[1, 2, 2, 3, 1], [3, 0, 3, 2, 3], [3, 2, 1, 0, 3], '\\\n",
                "                  '[2, 3, 0, 2, 2], [1, 2, 0, 1, 3], [0, 0, 1, 3, 1], '\\\n",
                "                  '[1, 1, 0, 0, 1], [0, 2, 0, 3, 3], [2, 2, 1, 2, 2], '\\\n",
                "                  '[2, 3, 3, 0, 1], [1, 3, 0, 0, 0], [2, 1, 2, 3, 3]]; '\\\n",
                "             'print(f6(L, [3, 2, 4, 5, 1]))'"
            ]
        },
        {
            "cell_type": "code",
            "execution_count": 990,
            "metadata": {},
            "outputs": [
                {
                    "name": "stdout",
                    "output_type": "stream",
                    "text": "\u001b[1mPASSED\u001b[0m\n\n\u001b[30m  [[1, 1, 0, 0, 1], [1, 2, 0, 1, 3], [0, 2, 0, 3, 3], [1, 3, 0, 0, 0], [2, 3, 0, 2, 2], [0, 0, 1, 3, 1], [3, 2, 1, 0, 3], [2, 2, 1, 2, 2], [2, 1, 2, 3, 3], [1, 2, 2, 3, 1], [3, 0, 3, 2, 3], [2, 3, 3, 0, 1]]\n\u001b[0m"
                }
            ],
            "source": [
                "%%run_and_test python3 -c \"$statements\"\n",
                "\n",
                "'[[1, 1, 0, 0, 1], [1, 2, 0, 1, 3], [0, 2, 0, 3, 3], '\n",
                " '[1, 3, 0, 0, 0], [2, 3, 0, 2, 2], [0, 0, 1, 3, 1], '\n",
                " '[3, 2, 1, 0, 3], [2, 2, 1, 2, 2], [2, 1, 2, 3, 3], '\n",
                " '[1, 2, 2, 3, 1], [3, 0, 3, 2, 3], [2, 3, 3, 0, 1]]\\n'"
            ]
        },
        {
            "cell_type": "code",
            "execution_count": 991,
            "metadata": {},
            "outputs": [],
            "source": [
                "statements = 'from exercise_3_6 import f6; '\\\n",
                "             'L = [[1, 0, 1, 0, 0, 0], [0, 1, 0, 1, 0, 0], [1, 0, 0, 1, 0, 1], '\\\n",
                "                  '[1, 1, 0, 0, 1, 0], [0, 1, 1, 1, 1, 1], [1, 1, 1, 1, 1, 1], '\\\n",
                "                  '[0, 1, 0, 0, 1, 0], [1, 1, 1, 1, 0, 0], [0, 0, 1, 0, 1, 0], '\\\n",
                "                  '[0, 0, 0, 1, 1, 1], [0, 0, 1, 1, 0, 0], [1, 1, 1, 0, 1, 1], '\\\n",
                "                  '[1, 1, 0, 0, 0, 1], [0, 1, 0, 0, 0, 1], [0, 0, 1, 1, 0, 1], '\\\n",
                "                  '[0, 0, 1, 0, 1, 1], [1, 1, 0, 1, 1, 0], [1, 0, 0, 1, 1, 1], '\\\n",
                "                  '[1, 0, 0, 0, 1, 1], [0, 1, 1, 0, 1, 1]]; '\\\n",
                "             'print(f6(L, [4, 3, 6, 2, 5, 1]))'"
            ]
        },
        {
            "cell_type": "code",
            "execution_count": 992,
            "metadata": {},
            "outputs": [
                {
                    "name": "stdout",
                    "output_type": "stream",
                    "text": "\u001b[1mPASSED\u001b[0m\n\n\u001b[30m  [[0, 1, 0, 0, 1, 0], [1, 1, 0, 0, 1, 0], [1, 0, 0, 0, 1, 1], [0, 1, 0, 0, 0, 1], [1, 1, 0, 0, 0, 1], [1, 0, 1, 0, 0, 0], [0, 0, 1, 0, 1, 0], [0, 0, 1, 0, 1, 1], [0, 1, 1, 0, 1, 1], [1, 1, 1, 0, 1, 1], [0, 1, 0, 1, 0, 0], [1, 1, 0, 1, 1, 0], [1, 0, 0, 1, 0, 1], [0, 0, 0, 1, 1, 1], [1, 0, 0, 1, 1, 1], [0, 0, 1, 1, 0, 0], [1, 1, 1, 1, 0, 0], [0, 0, 1, 1, 0, 1], [0, 1, 1, 1, 1, 1], [1, 1, 1, 1, 1, 1]]\n\u001b[0m"
                }
            ],
            "source": [
                "%%run_and_test python3 -c \"$statements\"\n",
                "\n",
                "'[[0, 1, 0, 0, 1, 0], [1, 1, 0, 0, 1, 0], [1, 0, 0, 0, 1, 1], '\n",
                " '[0, 1, 0, 0, 0, 1], [1, 1, 0, 0, 0, 1], [1, 0, 1, 0, 0, 0], '\n",
                " '[0, 0, 1, 0, 1, 0], [0, 0, 1, 0, 1, 1], [0, 1, 1, 0, 1, 1], '\n",
                " '[1, 1, 1, 0, 1, 1], [0, 1, 0, 1, 0, 0], [1, 1, 0, 1, 1, 0], '\n",
                " '[1, 0, 0, 1, 0, 1], [0, 0, 0, 1, 1, 1], [1, 0, 0, 1, 1, 1], '\n",
                " '[0, 0, 1, 1, 0, 0], [1, 1, 1, 1, 0, 0], [0, 0, 1, 1, 0, 1], '\n",
                " '[0, 1, 1, 1, 1, 1], [1, 1, 1, 1, 1, 1]]\\n'"
            ]
        }
    ]
}
